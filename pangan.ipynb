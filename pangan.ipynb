{
 "cells": [
  {
   "cell_type": "code",
   "execution_count": 319,
   "metadata": {},
   "outputs": [],
   "source": [
    "#preprocess\n",
    "import pandas as pd\n",
    "import numpy as np\n",
    "import warnings\n",
    "warnings.simplefilter('ignore')\n",
    "\n",
    "filename = 'dataset/{}_2018.csv'\n",
    "df = [pd.read_csv(filename.format(i), sep = 'delimiter') for i in range(1,13)]\n"
   ]
  },
  {
   "cell_type": "markdown",
   "metadata": {},
   "source": [
    "Justified Function"
   ]
  },
  {
   "cell_type": "code",
   "execution_count": 320,
   "metadata": {},
   "outputs": [],
   "source": [
    "def justify(a, invalid_val=0, axis=1, side='left'):    \n",
    "    \"\"\"\n",
    "    Justifies a 2D array\n",
    "\n",
    "    Parameters\n",
    "    ----------\n",
    "    A : ndarray\n",
    "        Input array to be justified\n",
    "    axis : int\n",
    "        Axis along which justification is to be made\n",
    "    side : str\n",
    "        Direction of justification. It could be 'left', 'right', 'up', 'down'\n",
    "        It should be 'left' or 'right' for axis=1 and 'up' or 'down' for axis=0.\n",
    "\n",
    "    \"\"\"\n",
    "\n",
    "    if invalid_val is np.nan:\n",
    "        mask = pd.notnull(a)\n",
    "    else:\n",
    "        mask = a!=invalid_val\n",
    "    justified_mask = np.sort(mask,axis=axis)\n",
    "    if (side=='up') | (side=='left'):\n",
    "        justified_mask = np.flip(justified_mask,axis=axis)\n",
    "    out = np.full(a.shape, invalid_val, dtype=object) \n",
    "    if axis==1:\n",
    "        out[justified_mask] = a[mask]\n",
    "    else:\n",
    "        out.T[justified_mask.T] = a.T[mask.T]\n",
    "    return out"
   ]
  },
  {
   "cell_type": "markdown",
   "metadata": {},
   "source": [
    "Setiap dataframe memiliki format yang berbeda, dan itu menyusahkan sekali jika di concat menjadi satu dataframe. Maka dari itu, proses cleaning tetap dilakukan terpisah.\n",
    "\n",
    "### df[0] = Januari"
   ]
  },
  {
   "cell_type": "code",
   "execution_count": 321,
   "metadata": {},
   "outputs": [
    {
     "name": "stdout",
     "output_type": "stream",
     "text": [
      "                              TANGGAL,KOMODITI,HARGA\n",
      "0                             02/01/2018,beras,11340\n",
      "1                        02/01/2018,gula pasir,13740\n",
      "2        02/01/2018,minyak goreng bimoli botol,14040\n",
      "3               02/01/2018,minyak goreng curah,12388\n",
      "4  02/01/2018,daging sapi, lokal, paha belakang,1...\n"
     ]
    },
    {
     "data": {
      "text/html": [
       "<div>\n",
       "<style scoped>\n",
       "    .dataframe tbody tr th:only-of-type {\n",
       "        vertical-align: middle;\n",
       "    }\n",
       "\n",
       "    .dataframe tbody tr th {\n",
       "        vertical-align: top;\n",
       "    }\n",
       "\n",
       "    .dataframe thead th {\n",
       "        text-align: right;\n",
       "    }\n",
       "</style>\n",
       "<table border=\"1\" class=\"dataframe\">\n",
       "  <thead>\n",
       "    <tr style=\"text-align: right;\">\n",
       "      <th></th>\n",
       "      <th>0</th>\n",
       "      <th>1</th>\n",
       "      <th>2</th>\n",
       "      <th>3</th>\n",
       "      <th>4</th>\n",
       "      <th>5</th>\n",
       "    </tr>\n",
       "  </thead>\n",
       "  <tbody>\n",
       "    <tr>\n",
       "      <th>0</th>\n",
       "      <td>02/01/2018</td>\n",
       "      <td>beras</td>\n",
       "      <td>11340</td>\n",
       "      <td>None</td>\n",
       "      <td>None</td>\n",
       "      <td>None</td>\n",
       "    </tr>\n",
       "    <tr>\n",
       "      <th>1</th>\n",
       "      <td>02/01/2018</td>\n",
       "      <td>gula pasir</td>\n",
       "      <td>13740</td>\n",
       "      <td>None</td>\n",
       "      <td>None</td>\n",
       "      <td>None</td>\n",
       "    </tr>\n",
       "    <tr>\n",
       "      <th>2</th>\n",
       "      <td>02/01/2018</td>\n",
       "      <td>minyak goreng bimoli botol</td>\n",
       "      <td>14040</td>\n",
       "      <td>None</td>\n",
       "      <td>None</td>\n",
       "      <td>None</td>\n",
       "    </tr>\n",
       "    <tr>\n",
       "      <th>3</th>\n",
       "      <td>02/01/2018</td>\n",
       "      <td>minyak goreng curah</td>\n",
       "      <td>12388</td>\n",
       "      <td>None</td>\n",
       "      <td>None</td>\n",
       "      <td>None</td>\n",
       "    </tr>\n",
       "    <tr>\n",
       "      <th>4</th>\n",
       "      <td>02/01/2018</td>\n",
       "      <td>daging sapi</td>\n",
       "      <td>lokal</td>\n",
       "      <td>paha belakang</td>\n",
       "      <td>117660</td>\n",
       "      <td>None</td>\n",
       "    </tr>\n",
       "    <tr>\n",
       "      <th>5</th>\n",
       "      <td>02/01/2018</td>\n",
       "      <td>daging sapi</td>\n",
       "      <td>lokal</td>\n",
       "      <td>daging</td>\n",
       "      <td>has luar (sirloin)</td>\n",
       "      <td>118333</td>\n",
       "    </tr>\n",
       "    <tr>\n",
       "      <th>6</th>\n",
       "      <td>02/01/2018</td>\n",
       "      <td>daging sapi</td>\n",
       "      <td>lokal</td>\n",
       "      <td>daging</td>\n",
       "      <td>sandung lamur (brisket)</td>\n",
       "      <td>89167</td>\n",
       "    </tr>\n",
       "    <tr>\n",
       "      <th>7</th>\n",
       "      <td>02/01/2018</td>\n",
       "      <td>daging sapi</td>\n",
       "      <td>lokal</td>\n",
       "      <td>daging</td>\n",
       "      <td>tetelan</td>\n",
       "      <td>70833</td>\n",
       "    </tr>\n",
       "    <tr>\n",
       "      <th>8</th>\n",
       "      <td>02/01/2018</td>\n",
       "      <td>daging sapi</td>\n",
       "      <td>impor</td>\n",
       "      <td>beku</td>\n",
       "      <td>120000</td>\n",
       "      <td>None</td>\n",
       "    </tr>\n",
       "    <tr>\n",
       "      <th>9</th>\n",
       "      <td>02/01/2018</td>\n",
       "      <td>daging sapi</td>\n",
       "      <td>lokal</td>\n",
       "      <td>has dalam</td>\n",
       "      <td>143333</td>\n",
       "      <td>None</td>\n",
       "    </tr>\n",
       "    <tr>\n",
       "      <th>10</th>\n",
       "      <td>02/01/2018</td>\n",
       "      <td>ayam boiler</td>\n",
       "      <td>39740</td>\n",
       "      <td>None</td>\n",
       "      <td>None</td>\n",
       "      <td>None</td>\n",
       "    </tr>\n",
       "    <tr>\n",
       "      <th>11</th>\n",
       "      <td>02/01/2018</td>\n",
       "      <td>ayam kampung</td>\n",
       "      <td>55075</td>\n",
       "      <td>None</td>\n",
       "      <td>None</td>\n",
       "      <td>None</td>\n",
       "    </tr>\n",
       "    <tr>\n",
       "      <th>12</th>\n",
       "      <td>02/01/2018</td>\n",
       "      <td>telur ayam ras</td>\n",
       "      <td>26150</td>\n",
       "      <td>None</td>\n",
       "      <td>None</td>\n",
       "      <td>None</td>\n",
       "    </tr>\n",
       "    <tr>\n",
       "      <th>13</th>\n",
       "      <td>02/01/2018</td>\n",
       "      <td>telur ayam kampung</td>\n",
       "      <td>2100</td>\n",
       "      <td>None</td>\n",
       "      <td>None</td>\n",
       "      <td>None</td>\n",
       "    </tr>\n",
       "    <tr>\n",
       "      <th>14</th>\n",
       "      <td>02/01/2018</td>\n",
       "      <td>susu kental manis kaleng merk bendera</td>\n",
       "      <td>12340</td>\n",
       "      <td>None</td>\n",
       "      <td>None</td>\n",
       "      <td>None</td>\n",
       "    </tr>\n",
       "    <tr>\n",
       "      <th>15</th>\n",
       "      <td>02/01/2018</td>\n",
       "      <td>susu kental manis kaleng merk indomilk</td>\n",
       "      <td>10300</td>\n",
       "      <td>None</td>\n",
       "      <td>None</td>\n",
       "      <td>None</td>\n",
       "    </tr>\n",
       "    <tr>\n",
       "      <th>16</th>\n",
       "      <td>02/01/2018</td>\n",
       "      <td>susu bubuk kaleng merk bendera</td>\n",
       "      <td>43667</td>\n",
       "      <td>None</td>\n",
       "      <td>None</td>\n",
       "      <td>None</td>\n",
       "    </tr>\n",
       "    <tr>\n",
       "      <th>17</th>\n",
       "      <td>02/01/2018</td>\n",
       "      <td>susu bubuk kaleng merk indomilk</td>\n",
       "      <td>42000</td>\n",
       "      <td>None</td>\n",
       "      <td>None</td>\n",
       "      <td>None</td>\n",
       "    </tr>\n",
       "    <tr>\n",
       "      <th>18</th>\n",
       "      <td>02/01/2018</td>\n",
       "      <td>jagung pipilan kecil</td>\n",
       "      <td>16833</td>\n",
       "      <td>None</td>\n",
       "      <td>None</td>\n",
       "      <td>None</td>\n",
       "    </tr>\n",
       "    <tr>\n",
       "      <th>19</th>\n",
       "      <td>02/01/2018</td>\n",
       "      <td>garam beryodium bata</td>\n",
       "      <td>3220</td>\n",
       "      <td>None</td>\n",
       "      <td>None</td>\n",
       "      <td>None</td>\n",
       "    </tr>\n",
       "    <tr>\n",
       "      <th>20</th>\n",
       "      <td>02/01/2018</td>\n",
       "      <td>garam beryodium halus</td>\n",
       "      <td>11260</td>\n",
       "      <td>None</td>\n",
       "      <td>None</td>\n",
       "      <td>None</td>\n",
       "    </tr>\n",
       "    <tr>\n",
       "      <th>21</th>\n",
       "      <td>02/01/2018</td>\n",
       "      <td>tepung terigu segitiga biru</td>\n",
       "      <td>10160</td>\n",
       "      <td>None</td>\n",
       "      <td>None</td>\n",
       "      <td>None</td>\n",
       "    </tr>\n",
       "    <tr>\n",
       "      <th>22</th>\n",
       "      <td>02/01/2018</td>\n",
       "      <td>kacang kedelai eks impor</td>\n",
       "      <td>12300</td>\n",
       "      <td>None</td>\n",
       "      <td>None</td>\n",
       "      <td>None</td>\n",
       "    </tr>\n",
       "    <tr>\n",
       "      <th>23</th>\n",
       "      <td>02/01/2018</td>\n",
       "      <td>kacang kedelai lokal</td>\n",
       "      <td>3333</td>\n",
       "      <td>None</td>\n",
       "      <td>None</td>\n",
       "      <td>None</td>\n",
       "    </tr>\n",
       "    <tr>\n",
       "      <th>24</th>\n",
       "      <td>02/01/2018</td>\n",
       "      <td>mie instan indomie rasa kari ayam</td>\n",
       "      <td>2740</td>\n",
       "      <td>None</td>\n",
       "      <td>None</td>\n",
       "      <td>None</td>\n",
       "    </tr>\n",
       "    <tr>\n",
       "      <th>25</th>\n",
       "      <td>02/01/2018</td>\n",
       "      <td>cabe merah keriting</td>\n",
       "      <td>37140</td>\n",
       "      <td>None</td>\n",
       "      <td>None</td>\n",
       "      <td>None</td>\n",
       "    </tr>\n",
       "    <tr>\n",
       "      <th>26</th>\n",
       "      <td>02/01/2018</td>\n",
       "      <td>cabe merah besar</td>\n",
       "      <td>37260</td>\n",
       "      <td>None</td>\n",
       "      <td>None</td>\n",
       "      <td>None</td>\n",
       "    </tr>\n",
       "    <tr>\n",
       "      <th>27</th>\n",
       "      <td>02/01/2018</td>\n",
       "      <td>cabe rawit merah</td>\n",
       "      <td>56240</td>\n",
       "      <td>None</td>\n",
       "      <td>None</td>\n",
       "      <td>None</td>\n",
       "    </tr>\n",
       "    <tr>\n",
       "      <th>28</th>\n",
       "      <td>02/01/2018</td>\n",
       "      <td>cabe rawit hijau</td>\n",
       "      <td>34800</td>\n",
       "      <td>None</td>\n",
       "      <td>None</td>\n",
       "      <td>None</td>\n",
       "    </tr>\n",
       "    <tr>\n",
       "      <th>29</th>\n",
       "      <td>02/01/2018</td>\n",
       "      <td>bawang merah (medium)</td>\n",
       "      <td>26800</td>\n",
       "      <td>None</td>\n",
       "      <td>None</td>\n",
       "      <td>None</td>\n",
       "    </tr>\n",
       "    <tr>\n",
       "      <th>30</th>\n",
       "      <td>02/01/2018</td>\n",
       "      <td>bawang putih impor (kating)</td>\n",
       "      <td>28560</td>\n",
       "      <td>None</td>\n",
       "      <td>None</td>\n",
       "      <td>None</td>\n",
       "    </tr>\n",
       "    <tr>\n",
       "      <th>31</th>\n",
       "      <td>02/01/2018</td>\n",
       "      <td>bawang putih impor (honan)</td>\n",
       "      <td>25000</td>\n",
       "      <td>None</td>\n",
       "      <td>None</td>\n",
       "      <td>None</td>\n",
       "    </tr>\n",
       "    <tr>\n",
       "      <th>32</th>\n",
       "      <td>02/01/2018</td>\n",
       "      <td>ikan teri asin</td>\n",
       "      <td>109400</td>\n",
       "      <td>None</td>\n",
       "      <td>None</td>\n",
       "      <td>None</td>\n",
       "    </tr>\n",
       "    <tr>\n",
       "      <th>33</th>\n",
       "      <td>02/01/2018</td>\n",
       "      <td>ikan kembung</td>\n",
       "      <td>36660</td>\n",
       "      <td>None</td>\n",
       "      <td>None</td>\n",
       "      <td>None</td>\n",
       "    </tr>\n",
       "    <tr>\n",
       "      <th>34</th>\n",
       "      <td>02/01/2018</td>\n",
       "      <td>kacang hijau</td>\n",
       "      <td>22340</td>\n",
       "      <td>None</td>\n",
       "      <td>None</td>\n",
       "      <td>None</td>\n",
       "    </tr>\n",
       "    <tr>\n",
       "      <th>35</th>\n",
       "      <td>02/01/2018</td>\n",
       "      <td>kacang tanah</td>\n",
       "      <td>25500</td>\n",
       "      <td>None</td>\n",
       "      <td>None</td>\n",
       "      <td>None</td>\n",
       "    </tr>\n",
       "    <tr>\n",
       "      <th>36</th>\n",
       "      <td>02/01/2018</td>\n",
       "      <td>ketela pohon</td>\n",
       "      <td>5060</td>\n",
       "      <td>None</td>\n",
       "      <td>None</td>\n",
       "      <td>None</td>\n",
       "    </tr>\n",
       "  </tbody>\n",
       "</table>\n",
       "</div>"
      ],
      "text/plain": [
       "             0                                       1       2  \\\n",
       "0   02/01/2018                                   beras   11340   \n",
       "1   02/01/2018                              gula pasir   13740   \n",
       "2   02/01/2018              minyak goreng bimoli botol   14040   \n",
       "3   02/01/2018                     minyak goreng curah   12388   \n",
       "4   02/01/2018                             daging sapi   lokal   \n",
       "5   02/01/2018                             daging sapi   lokal   \n",
       "6   02/01/2018                             daging sapi   lokal   \n",
       "7   02/01/2018                             daging sapi   lokal   \n",
       "8   02/01/2018                             daging sapi   impor   \n",
       "9   02/01/2018                             daging sapi   lokal   \n",
       "10  02/01/2018                             ayam boiler   39740   \n",
       "11  02/01/2018                            ayam kampung   55075   \n",
       "12  02/01/2018                          telur ayam ras   26150   \n",
       "13  02/01/2018                      telur ayam kampung    2100   \n",
       "14  02/01/2018   susu kental manis kaleng merk bendera   12340   \n",
       "15  02/01/2018  susu kental manis kaleng merk indomilk   10300   \n",
       "16  02/01/2018          susu bubuk kaleng merk bendera   43667   \n",
       "17  02/01/2018         susu bubuk kaleng merk indomilk   42000   \n",
       "18  02/01/2018                    jagung pipilan kecil   16833   \n",
       "19  02/01/2018                    garam beryodium bata    3220   \n",
       "20  02/01/2018                   garam beryodium halus   11260   \n",
       "21  02/01/2018             tepung terigu segitiga biru   10160   \n",
       "22  02/01/2018                kacang kedelai eks impor   12300   \n",
       "23  02/01/2018                    kacang kedelai lokal    3333   \n",
       "24  02/01/2018       mie instan indomie rasa kari ayam    2740   \n",
       "25  02/01/2018                     cabe merah keriting   37140   \n",
       "26  02/01/2018                        cabe merah besar   37260   \n",
       "27  02/01/2018                        cabe rawit merah   56240   \n",
       "28  02/01/2018                        cabe rawit hijau   34800   \n",
       "29  02/01/2018                   bawang merah (medium)   26800   \n",
       "30  02/01/2018             bawang putih impor (kating)   28560   \n",
       "31  02/01/2018              bawang putih impor (honan)   25000   \n",
       "32  02/01/2018                          ikan teri asin  109400   \n",
       "33  02/01/2018                            ikan kembung   36660   \n",
       "34  02/01/2018                            kacang hijau   22340   \n",
       "35  02/01/2018                            kacang tanah   25500   \n",
       "36  02/01/2018                            ketela pohon    5060   \n",
       "\n",
       "                 3                         4       5  \n",
       "0             None                      None    None  \n",
       "1             None                      None    None  \n",
       "2             None                      None    None  \n",
       "3             None                      None    None  \n",
       "4    paha belakang                    117660    None  \n",
       "5           daging        has luar (sirloin)  118333  \n",
       "6           daging   sandung lamur (brisket)   89167  \n",
       "7           daging                   tetelan   70833  \n",
       "8             beku                    120000    None  \n",
       "9        has dalam                    143333    None  \n",
       "10            None                      None    None  \n",
       "11            None                      None    None  \n",
       "12            None                      None    None  \n",
       "13            None                      None    None  \n",
       "14            None                      None    None  \n",
       "15            None                      None    None  \n",
       "16            None                      None    None  \n",
       "17            None                      None    None  \n",
       "18            None                      None    None  \n",
       "19            None                      None    None  \n",
       "20            None                      None    None  \n",
       "21            None                      None    None  \n",
       "22            None                      None    None  \n",
       "23            None                      None    None  \n",
       "24            None                      None    None  \n",
       "25            None                      None    None  \n",
       "26            None                      None    None  \n",
       "27            None                      None    None  \n",
       "28            None                      None    None  \n",
       "29            None                      None    None  \n",
       "30            None                      None    None  \n",
       "31            None                      None    None  \n",
       "32            None                      None    None  \n",
       "33            None                      None    None  \n",
       "34            None                      None    None  \n",
       "35            None                      None    None  \n",
       "36            None                      None    None  "
      ]
     },
     "execution_count": 321,
     "metadata": {},
     "output_type": "execute_result"
    }
   ],
   "source": [
    "df_januari = df[0]\n",
    "df_januari = df_januari.apply(lambda x : x.astype(str).str.lower())\n",
    "\n",
    "print(df_januari.head())\n",
    "\n",
    "#Split column\n",
    "df_januari = df_januari['TANGGAL,KOMODITI,HARGA'].str.split(',', expand = True)\n",
    "\n",
    "#melihat baris dengan tanggal 02/01/2018\n",
    "df_januari.loc[df_januari[0] == '02/01/2018']"
   ]
  },
  {
   "cell_type": "markdown",
   "metadata": {},
   "source": [
    "Kita melihat bahwa baris Daging Sapi memiliki kolom lebih dari tiga. Kita akan cek baris keseluruhannya."
   ]
  },
  {
   "cell_type": "code",
   "execution_count": 322,
   "metadata": {},
   "outputs": [],
   "source": [
    "datecol = df_januari.loc[:, 0]"
   ]
  },
  {
   "cell_type": "code",
   "execution_count": 323,
   "metadata": {
    "scrolled": true
   },
   "outputs": [
    {
     "name": "stdout",
     "output_type": "stream",
     "text": [
      "     0            1       2                           3       4\n",
      "0  NaN          NaN     NaN                       beras   11340\n",
      "1  NaN          NaN     NaN                  gula pasir   13740\n",
      "2  NaN          NaN     NaN  minyak goreng bimoli botol   14040\n",
      "3  NaN          NaN     NaN         minyak goreng curah   12388\n",
      "4  NaN  daging sapi   lokal               paha belakang  117660 \n",
      "\n",
      "                                 0       4\n",
      "0                            beras   11340\n",
      "1                       gula pasir   13740\n",
      "2       minyak goreng bimoli botol   14040\n",
      "3              minyak goreng curah   12388\n",
      "4  daging sapi lokal paha belakang  117660 \n",
      "\n"
     ]
    }
   ],
   "source": [
    "#Shift\n",
    "right_shift = df_januari.loc[:, 1:5]\n",
    "right_shift = justify(right_shift.values, invalid_val=np.nan, side = 'right' )\n",
    "right_shift = pd.DataFrame(right_shift)\n",
    "print(right_shift.head(), '\\n')\n",
    "\n",
    "#Combine and drop\n",
    "right_shift[0] = right_shift[right_shift.columns[1:4]]\\\n",
    "                            .apply(lambda x: ''.join(x.dropna().astype(str)),\n",
    "                                  axis = 1)\n",
    "\n",
    "right_shift = right_shift.drop([1, 2, 3], axis = 1)\n",
    "print(right_shift.head(), '\\n')\n",
    "\n",
    "#Concatenate 2 dataframe\n",
    "df_jan = pd.concat([datecol, right_shift], axis = 1)\n",
    "df_jan.columns = ['tanggal', 'komoditas', 'harga']\n",
    "df_jan.komoditas = df_jan.komoditas.str.lstrip()\n",
    "\n",
    "#Change to datetime for tanggal, and int for harga\n",
    "df_jan.tanggal = df_jan.tanggal.apply(pd.to_datetime, dayfirst = True)\n",
    "df_jan.harga = df_jan.harga.astype('int64')\n",
    "\n",
    "#create beras premium dataframe\n",
    "df_premium = df_jan[df_jan['komoditas'] == 'beras']\n",
    "df_premium.komoditas = df_premium.komoditas.replace('beras', 'beras premium')\n",
    "df_premium.harga = df_premium.harga + 2000\n",
    "\n",
    "#change beras to beras medium\n",
    "df_jan.komoditas = df_jan.komoditas.replace('beras', 'beras medium')\n",
    "\n",
    "#concat\n",
    "df_jan = pd.concat([df_jan, df_premium], axis = 'rows')"
   ]
  },
  {
   "cell_type": "code",
   "execution_count": 324,
   "metadata": {},
   "outputs": [],
   "source": [
    "def satuan(df_series):\n",
    "    '''\n",
    "    Add string measurement unit\n",
    "    '''\n",
    "    kg_list = ['medium', 'premium', \n",
    "           'pasir', 'belakang', 'sirloin', 'brisket',\n",
    "           'tetelan', 'beku', 'dalam', 'ayam ras',\n",
    "           'pipilan', 'halus', 'eks impor',\n",
    "           'kedelai lokal', 'segitiga',\n",
    "           'kriting', 'besar', 'rawit merah',\n",
    "           'rawit hijau', 'bawang merah', \n",
    "           'impor kating', 'impor honan', \n",
    "           'teri', 'kembung', 'hijau', 'tanah', 'pohon']\n",
    "    ekor1 = 'boiler'\n",
    "    ekor2_list = ['ayam kampung']\n",
    "    gram_list = ['bata']\n",
    "    liter_List = ['bimoli', 'curah']\n",
    "    buah_list = ['manis kaleng merk bendera', 'manis kaleng merk indomilk',\n",
    "             'bubuk kaleng merk bendera', 'bubuk kaleng merk indomilk',\n",
    "             'kari ayam']\n",
    "    butir_list = ['telur ayam kampung']\n",
    "    \n",
    "    df_series = pd.np.where(df_series.str.contains('|'.join(kg_list)), df_series + '/kg', \n",
    "        pd.np.where(df_series.str.contains(ekor1), df_series + '/ekor',\n",
    "        pd.np.where(df_series.str.contains('ayam kampung'), df_series.replace({'ayam kampung': 'ayam kampung/ekor', 'telur ayam kampung' : 'telur ayam kampung/butir'}),\n",
    "        pd.np.where(df_series.str.contains('bata'), 'garam beryodium bata/250 gr', \n",
    "        pd.np.where(df_series.str.contains('|'.join(liter_List)), df_series + '/liter', df_series + '/buah')))))\n",
    "    \n",
    "    return df_series"
   ]
  },
  {
   "cell_type": "code",
   "execution_count": 325,
   "metadata": {
    "scrolled": true
   },
   "outputs": [],
   "source": [
    "df_jan.komoditas = df_jan.apply(lambda df_series : satuan(df_jan['komoditas']))\n"
   ]
  },
  {
   "cell_type": "code",
   "execution_count": 326,
   "metadata": {},
   "outputs": [
    {
     "data": {
      "text/plain": [
       "(836, 3)"
      ]
     },
     "execution_count": 326,
     "metadata": {},
     "output_type": "execute_result"
    }
   ],
   "source": [
    "df_jan.shape"
   ]
  },
  {
   "cell_type": "markdown",
   "metadata": {},
   "source": [
    "### df[1] = Februari"
   ]
  },
  {
   "cell_type": "code",
   "execution_count": 327,
   "metadata": {},
   "outputs": [],
   "source": [
    "def convert(df_series):\n",
    "    x =  df_series.replace({'lokal daging has luar (sirloin)/kg' : 'daging sapi lokal daging has luar (sirloin)/kg',\n",
    "                            'lokal daging sandung lamur (brisket)/kg' : 'daging sapi lokal daging sandung lamur (brisket)/kg',\n",
    "                            'lokal daging tetelan/kg' : 'daging sapi lokal daging tetelan/kg'}, regex = True)\\\n",
    "                  .str.replace('cabe', 'cabai', regex = True).str.replace('mie instan ', '')\n",
    "    return x"
   ]
  },
  {
   "cell_type": "code",
   "execution_count": 328,
   "metadata": {},
   "outputs": [
    {
     "data": {
      "text/html": [
       "<div>\n",
       "<style scoped>\n",
       "    .dataframe tbody tr th:only-of-type {\n",
       "        vertical-align: middle;\n",
       "    }\n",
       "\n",
       "    .dataframe tbody tr th {\n",
       "        vertical-align: top;\n",
       "    }\n",
       "\n",
       "    .dataframe thead th {\n",
       "        text-align: right;\n",
       "    }\n",
       "</style>\n",
       "<table border=\"1\" class=\"dataframe\">\n",
       "  <thead>\n",
       "    <tr style=\"text-align: right;\">\n",
       "      <th></th>\n",
       "      <th>TANGGAL,KOMODITI,SATUAN,HARGA</th>\n",
       "    </tr>\n",
       "  </thead>\n",
       "  <tbody>\n",
       "    <tr>\n",
       "      <th>0</th>\n",
       "      <td>01/02/2018,beras medium,kg,10.863</td>\n",
       "    </tr>\n",
       "    <tr>\n",
       "      <th>1</th>\n",
       "      <td>02/02/2018,beras medium,kg,10.863</td>\n",
       "    </tr>\n",
       "    <tr>\n",
       "      <th>2</th>\n",
       "      <td>05/02/2018,beras medium,kg,10.890</td>\n",
       "    </tr>\n",
       "    <tr>\n",
       "      <th>3</th>\n",
       "      <td>06/02/2018,beras medium,kg,11.170</td>\n",
       "    </tr>\n",
       "    <tr>\n",
       "      <th>4</th>\n",
       "      <td>07/02/2018,beras medium,kg,11.040</td>\n",
       "    </tr>\n",
       "  </tbody>\n",
       "</table>\n",
       "</div>"
      ],
      "text/plain": [
       "       TANGGAL,KOMODITI,SATUAN,HARGA\n",
       "0  01/02/2018,beras medium,kg,10.863\n",
       "1  02/02/2018,beras medium,kg,10.863\n",
       "2  05/02/2018,beras medium,kg,10.890\n",
       "3  06/02/2018,beras medium,kg,11.170\n",
       "4  07/02/2018,beras medium,kg,11.040"
      ]
     },
     "execution_count": 328,
     "metadata": {},
     "output_type": "execute_result"
    }
   ],
   "source": [
    "df_februari = df[1]\n",
    "df_februari = df_februari.apply(lambda x : x.astype(str).str.lower())\n",
    "df_februari.head()"
   ]
  },
  {
   "cell_type": "code",
   "execution_count": 329,
   "metadata": {},
   "outputs": [
    {
     "name": "stdout",
     "output_type": "stream",
     "text": [
      "            0             1   2       3     4     5     6\n",
      "0  01/02/2018  beras medium  kg  10.863  None  None  None\n",
      "1  02/02/2018  beras medium  kg  10.863  None  None  None\n",
      "2  05/02/2018  beras medium  kg  10.890  None  None  None\n",
      "3  06/02/2018  beras medium  kg  11.170  None  None  None\n",
      "4  07/02/2018  beras medium  kg  11.040  None  None  None\n",
      "5  08/02/2018  beras medium  kg  11.000  None  None  None\n",
      "6  09/02/2018  beras medium  kg  11.380  None  None  None\n",
      "7  12/02/2018  beras medium  kg  11.270  None  None  None\n",
      "8  13/02/2018  beras medium  kg  11.180  None  None  None\n",
      "9  14/02/2018  beras medium  kg  11.620  None  None  None\n"
     ]
    }
   ],
   "source": [
    "#Split column\n",
    "df_februari = df_februari['TANGGAL,KOMODITI,SATUAN,HARGA'].str.split(',', expand = True)\n",
    "\n",
    "print(df_februari.head(10))"
   ]
  },
  {
   "cell_type": "code",
   "execution_count": 330,
   "metadata": {
    "scrolled": true
   },
   "outputs": [
    {
     "name": "stdout",
     "output_type": "stream",
     "text": [
      "     tanggal        komoditas  harga\n",
      "0 2018-02-01  beras medium/kg  10863\n",
      "1 2018-02-02  beras medium/kg  10863\n",
      "2 2018-02-05  beras medium/kg  10890\n",
      "3 2018-02-06  beras medium/kg  11170\n",
      "4 2018-02-07  beras medium/kg  11040\n",
      "5 2018-02-08  beras medium/kg  11000\n",
      "6 2018-02-09  beras medium/kg  11380\n",
      "7 2018-02-12  beras medium/kg  11270\n",
      "8 2018-02-13  beras medium/kg  11180\n",
      "9 2018-02-14  beras medium/kg  11620 \n",
      "\n"
     ]
    }
   ],
   "source": [
    "#put date column in :datecol\n",
    "datecol = df_februari.loc[:, 0]\n",
    "datecol\n",
    "\n",
    "#right shift all column except datecol\n",
    "right_shift = justify(df_februari.loc[:, 1:].values, invalid_val = np.nan, side = 'right')\n",
    "right_shift = pd.DataFrame(right_shift)\n",
    "\n",
    "#combine and drop\n",
    "right_shift[0] = right_shift[right_shift.columns[1:4]]\\\n",
    "                            .apply(lambda x: ''.join(x.dropna().astype(str)),\n",
    "                                  axis = 1).str.lstrip()\n",
    "right_shift[0] = right_shift[right_shift.columns[[0,4]]].apply(lambda x: '/'.join(x), axis = 1)\n",
    "\n",
    "right_shift = right_shift.drop([1, 2, 3, 4], axis = 'columns')\n",
    "\n",
    "#concatenate and drop\n",
    "df_feb = pd.concat([datecol, right_shift], axis = 'columns')\n",
    "df_feb.columns = ['tanggal', 'komoditas', 'harga']\n",
    "\n",
    "\n",
    "#change tanggal to datetime, harga to int64\n",
    "df_feb.tanggal = df_feb.tanggal.apply(pd.to_datetime, dayfirst = True)\n",
    "df_feb.harga = df_feb.harga.str.replace('.', '').astype('int64')\n",
    "\n",
    "print(df_feb.head(10), '\\n')"
   ]
  },
  {
   "cell_type": "code",
   "execution_count": 331,
   "metadata": {
    "scrolled": true
   },
   "outputs": [
    {
     "name": "stdout",
     "output_type": "stream",
     "text": [
      "['beras medium/kg' 'beras premium/kg' 'gula pasir/kg'\n",
      " 'minyak goreng bimoli botol/liter' 'minyak goreng curah/liter'\n",
      " 'daging sapi lokal paha belakang/kg' 'lokal daging has luar (sirloin)/kg'\n",
      " 'lokal daging sandung lamur (brisket)/kg' 'lokal daging tetelan/kg'\n",
      " 'daging sapi impor beku/kg' 'daging sapi lokal has dalam/kg'\n",
      " 'ayam boiler/ekor' 'ayam kampung/ekor' 'telur ayam ras/kg'\n",
      " 'telur ayam kampung/butir' 'susu kental manis kaleng merk bendera/buah'\n",
      " 'susu kental manis kaleng merk indomilk/buah'\n",
      " 'susu bubuk kaleng merk bendera/buah'\n",
      " 'susu bubuk kaleng merk indomilk/buah' 'jagung pipilan kecil/kg'\n",
      " 'garam beryodium bata/250 gr' 'garam beryodium halus/kg'\n",
      " 'tepung terigu segitiga biru/kg' 'kacang kedelai eks impor/kg'\n",
      " 'kacang kedelai lokal/kg' 'indomie rasa kari ayam/buah'\n",
      " 'cabai merah kriting/kg' 'cabai merah besar/kg' 'cabai rawit merah/kg'\n",
      " 'cabai rawit hijau/kg' 'bawang merah (medium)/kg'\n",
      " 'bawang putih impor kating/kg' 'bawang putih impor honan/kg'\n",
      " 'ikan teri asin/kg' 'ikan kembung/kg' 'kacang hijau/kg' 'kacang tanah/kg'\n",
      " 'ketela pohon/kg'] \n",
      "\n",
      "['beras medium/kg' 'beras premium/kg' 'gula pasir/kg'\n",
      " 'minyak goreng bimoli botol/liter' 'minyak goreng curah/liter'\n",
      " 'daging sapi lokal paha belakang/kg' 'lokal daging has luar (sirloin)/kg'\n",
      " 'lokal daging sandung lamur (brisket)/kg'\n",
      " 'daging sapi lokal daging tetelan/kg' 'daging sapi impor beku/kg'\n",
      " 'daging sapi lokal has dalam/kg' 'ayam boiler/ekor' 'ayam kampung/ekor'\n",
      " 'telur ayam ras/kg' 'telur ayam kampung/butir'\n",
      " 'susu kental manis kaleng merk bendera/buah'\n",
      " 'susu kental manis kaleng merk indomilk/buah'\n",
      " 'susu bubuk kaleng merk bendera/buah'\n",
      " 'susu bubuk kaleng merk indomilk/buah' 'jagung pipilan kecil/kg'\n",
      " 'garam beryodium bata/250 gr' 'garam beryodium halus/kg'\n",
      " 'tepung terigu segitiga biru/kg' 'kacang kedelai eks impor/kg'\n",
      " 'kacang kedelai lokal/kg' 'indomie rasa kari ayam/buah'\n",
      " 'cabai merah kriting/kg' 'cabai merah besar/kg' 'cabai rawit merah/kg'\n",
      " 'cabai rawit hijau/kg' 'bawang merah (medium)/kg'\n",
      " 'bawang putih impor kating/kg' 'bawang putih impor honan/kg'\n",
      " 'ikan teri asin/kg' 'ikan kembung/kg' 'kacang hijau/kg' 'kacang tanah/kg'\n",
      " 'ketela pohon/kg']\n"
     ]
    }
   ],
   "source": [
    "print(df_feb.komoditas.unique(), '\\n')\n",
    "df_feb.komoditas = df_feb.apply(lambda x : convert(df_feb.komoditas))\n",
    "print(df_feb.komoditas.unique())"
   ]
  },
  {
   "cell_type": "code",
   "execution_count": 332,
   "metadata": {},
   "outputs": [
    {
     "data": {
      "text/plain": [
       "2018-02-20    38\n",
       "2018-02-23    38\n",
       "2018-02-08    38\n",
       "2018-02-19    38\n",
       "2018-02-02    38\n",
       "2018-02-13    38\n",
       "2018-02-07    38\n",
       "2018-02-01    38\n",
       "2018-02-12    38\n",
       "2018-02-06    38\n",
       "2018-02-09    38\n",
       "2018-02-28    38\n",
       "2018-02-22    38\n",
       "2018-02-05    38\n",
       "2018-02-27    38\n",
       "2018-02-21    38\n",
       "2018-02-15    38\n",
       "2018-02-26    38\n",
       "2018-02-14    38\n",
       "Name: tanggal, dtype: int64"
      ]
     },
     "execution_count": 332,
     "metadata": {},
     "output_type": "execute_result"
    }
   ],
   "source": [
    "df_feb.tanggal.value_counts()"
   ]
  },
  {
   "cell_type": "markdown",
   "metadata": {},
   "source": [
    "### df[2] = df_mar"
   ]
  },
  {
   "cell_type": "code",
   "execution_count": 333,
   "metadata": {
    "scrolled": true
   },
   "outputs": [
    {
     "data": {
      "text/plain": [
       "TANGGAL,KOMODITI,SATUAN,HARGA    0\n",
       "dtype: int64"
      ]
     },
     "execution_count": 333,
     "metadata": {},
     "output_type": "execute_result"
    }
   ],
   "source": [
    "df_mar = df[2]\n",
    "df_mar = df_mar.apply(lambda x : x.astype(str).str.lower())\n",
    "df_mar.head()\n",
    "df_mar.isnull().sum()"
   ]
  },
  {
   "cell_type": "code",
   "execution_count": 334,
   "metadata": {
    "scrolled": false
   },
   "outputs": [
    {
     "name": "stdout",
     "output_type": "stream",
     "text": [
      "            0             1   2      3     4     5     6\n",
      "0  01/03/2018  beras medium  kg  11675  None  None  None\n",
      "1  02/03/2018  beras medium  kg  11075  None  None  None\n",
      "2  05/03/2018  beras medium  kg  10825  None  None  None\n",
      "3  06/03/2018  beras medium  kg  10660  None  None  None\n",
      "4  07/03/2018  beras medium  kg  10760  None  None  None\n",
      "5  08/03/2018  beras medium  kg  11310  None  None  None\n",
      "6  09/03/2018  beras medium  kg  10760  None  None  None\n",
      "7  12/03/2018  beras medium  kg  11160  None  None  None\n",
      "8  13/03/2018  beras medium  kg  10960  None  None  None\n",
      "9  14/03/2018  beras medium  kg  11160  None  None  None\n"
     ]
    },
    {
     "data": {
      "text/plain": [
       "0      0\n",
       "1      0\n",
       "2      0\n",
       "3      0\n",
       "4    630\n",
       "5    672\n",
       "6    735\n",
       "dtype: int64"
      ]
     },
     "execution_count": 334,
     "metadata": {},
     "output_type": "execute_result"
    }
   ],
   "source": [
    "#Split column\n",
    "df_mar = df_mar['TANGGAL,KOMODITI,SATUAN,HARGA'].str.split(',', expand = True)\n",
    "print(df_mar.head(10))\n",
    "df_mar.isnull().sum()"
   ]
  },
  {
   "cell_type": "code",
   "execution_count": 335,
   "metadata": {},
   "outputs": [
    {
     "name": "stdout",
     "output_type": "stream",
     "text": [
      "     tanggal        komoditas  harga\n",
      "0 2018-03-01  beras medium/kg  11675\n",
      "1 2018-03-02  beras medium/kg  11075\n",
      "2 2018-03-05  beras medium/kg  10825\n",
      "3 2018-03-06  beras medium/kg  10660\n",
      "4 2018-03-07  beras medium/kg  10760\n"
     ]
    }
   ],
   "source": [
    "#put date column in :datecol\n",
    "datecol = df_mar.loc[:, 0]\n",
    " \n",
    "\n",
    "#right shift all column except datecol\n",
    "right_shift = justify(df_mar.loc[:, 1:].values, invalid_val = np.nan, side = 'right')\n",
    "right_shift = pd.DataFrame(right_shift)\n",
    "\n",
    "#combine and drop\n",
    "right_shift[0] = right_shift[right_shift.columns[1:4]]\\\n",
    "                            .apply(lambda x: ''.join(x.dropna().astype(str)),\n",
    "                                  axis = 1).str.lstrip()\n",
    "right_shift[0] = right_shift[right_shift.columns[[0,4]]].apply(lambda x: '/'.join(x), axis = 1)\n",
    "\n",
    "right_shift = right_shift.drop([1, 2, 3, 4], axis = 'columns')\n",
    "\n",
    "#concatenate and drop\n",
    "df_mar = pd.concat([datecol, right_shift], axis = 'columns')\n",
    "df_mar.columns = ['tanggal', 'komoditas', 'harga']\n",
    "\n",
    "#change tanggal to datetime, harga to int64, replace some strips\n",
    "df_mar.tanggal = df_mar.tanggal.apply(pd.to_datetime, dayfirst = True)\n",
    "df_mar.komoditas = df_mar.komoditas.str.replace('\"', '')\n",
    "df_mar.harga = df_mar.harga.str.replace('.', '').astype('int64')\n",
    "print(df_mar.head())"
   ]
  },
  {
   "cell_type": "code",
   "execution_count": 336,
   "metadata": {},
   "outputs": [
    {
     "data": {
      "text/plain": [
       "2018-03-20    38\n",
       "2018-03-23    38\n",
       "2018-03-08    38\n",
       "2018-03-19    38\n",
       "2018-03-02    38\n",
       "2018-03-13    38\n",
       "2018-03-07    38\n",
       "2018-03-01    38\n",
       "2018-03-29    38\n",
       "2018-03-12    38\n",
       "2018-03-06    38\n",
       "2018-03-09    38\n",
       "2018-03-28    38\n",
       "2018-03-22    38\n",
       "2018-03-05    38\n",
       "2018-03-16    38\n",
       "2018-03-27    38\n",
       "2018-03-21    38\n",
       "2018-03-15    38\n",
       "2018-03-26    38\n",
       "2018-03-14    38\n",
       "Name: tanggal, dtype: int64"
      ]
     },
     "execution_count": 336,
     "metadata": {},
     "output_type": "execute_result"
    }
   ],
   "source": [
    "df_mar.tanggal.value_counts()"
   ]
  },
  {
   "cell_type": "markdown",
   "metadata": {},
   "source": [
    "### df[3] = df_april"
   ]
  },
  {
   "cell_type": "code",
   "execution_count": 337,
   "metadata": {},
   "outputs": [
    {
     "data": {
      "text/html": [
       "<div>\n",
       "<style scoped>\n",
       "    .dataframe tbody tr th:only-of-type {\n",
       "        vertical-align: middle;\n",
       "    }\n",
       "\n",
       "    .dataframe tbody tr th {\n",
       "        vertical-align: top;\n",
       "    }\n",
       "\n",
       "    .dataframe thead th {\n",
       "        text-align: right;\n",
       "    }\n",
       "</style>\n",
       "<table border=\"1\" class=\"dataframe\">\n",
       "  <thead>\n",
       "    <tr style=\"text-align: right;\">\n",
       "      <th></th>\n",
       "      <th>tanggal,komoditi,satuan,harga</th>\n",
       "    </tr>\n",
       "  </thead>\n",
       "  <tbody>\n",
       "    <tr>\n",
       "      <th>0</th>\n",
       "      <td>2018-04-02,beras medium,kg,11240</td>\n",
       "    </tr>\n",
       "    <tr>\n",
       "      <th>1</th>\n",
       "      <td>2018-04-03,beras medium,kg,11680</td>\n",
       "    </tr>\n",
       "    <tr>\n",
       "      <th>2</th>\n",
       "      <td>2018-04-04,beras medium,kg,10940</td>\n",
       "    </tr>\n",
       "    <tr>\n",
       "      <th>3</th>\n",
       "      <td>2018-04-05,beras medium,kg,11480</td>\n",
       "    </tr>\n",
       "    <tr>\n",
       "      <th>4</th>\n",
       "      <td>2018-04-06,beras medium,kg,11780</td>\n",
       "    </tr>\n",
       "  </tbody>\n",
       "</table>\n",
       "</div>"
      ],
      "text/plain": [
       "      tanggal,komoditi,satuan,harga\n",
       "0  2018-04-02,beras medium,kg,11240\n",
       "1  2018-04-03,beras medium,kg,11680\n",
       "2  2018-04-04,beras medium,kg,10940\n",
       "3  2018-04-05,beras medium,kg,11480\n",
       "4  2018-04-06,beras medium,kg,11780"
      ]
     },
     "execution_count": 337,
     "metadata": {},
     "output_type": "execute_result"
    }
   ],
   "source": [
    "df_april = df[3]\n",
    "df_april = df_april.apply(lambda x : x.astype(str).str.lower())\n",
    "df_april.head()"
   ]
  },
  {
   "cell_type": "code",
   "execution_count": 338,
   "metadata": {
    "scrolled": false
   },
   "outputs": [
    {
     "name": "stdout",
     "output_type": "stream",
     "text": [
      "            0             1   2      3\n",
      "0  2018-04-02  beras medium  kg  11240\n",
      "1  2018-04-03  beras medium  kg  11680\n",
      "2  2018-04-04  beras medium  kg  10940\n",
      "3  2018-04-05  beras medium  kg  11480\n",
      "4  2018-04-06  beras medium  kg  11780\n",
      "5  2018-04-09  beras medium  kg  11580\n",
      "6  2018-04-10  beras medium  kg  10880\n",
      "7  2018-04-11  beras medium  kg  11480\n",
      "8  2018-04-12  beras medium  kg  11680\n",
      "9  2018-04-13  beras medium  kg  11290 \n",
      "\n"
     ]
    }
   ],
   "source": [
    "#Split column\n",
    "df_april = df_april['tanggal,komoditi,satuan,harga'].str.split(',', expand = True)\n",
    "print(df_april.head(10), '\\n')"
   ]
  },
  {
   "cell_type": "code",
   "execution_count": 339,
   "metadata": {},
   "outputs": [],
   "source": [
    "#combine\n",
    "df_april[1] = df_april[df_april.columns[[1,2]]].apply(lambda x: '/'.join(x), axis = 1)"
   ]
  },
  {
   "cell_type": "code",
   "execution_count": 340,
   "metadata": {},
   "outputs": [
    {
     "data": {
      "text/plain": [
       "array(['2018/04/02', '2018/04/03', '2018/04/04', '2018/04/05',\n",
       "       '2018/04/06', '2018/04/09', '2018/04/10', '2018/04/11',\n",
       "       '2018/04/12', '2018/04/13', '2018/04/16', '2018/04/17',\n",
       "       '2018/04/18', '2018/04/19', '2018/04/20', '2018/04/23',\n",
       "       '2018/04/24', '2018/04/25', '2018/04/26', '2018/04/27',\n",
       "       '2018/04/30'], dtype=object)"
      ]
     },
     "execution_count": 340,
     "metadata": {},
     "output_type": "execute_result"
    }
   ],
   "source": [
    "#drop\n",
    "df_april = df_april.drop(2, axis = 'columns')\n",
    "df_april.columns = ['tanggal', 'komoditas', 'harga']\n",
    "df_april.tanggal = df_april.tanggal.str.replace('-', '/')\n",
    "df_april.tanggal.unique()"
   ]
  },
  {
   "cell_type": "code",
   "execution_count": 341,
   "metadata": {},
   "outputs": [],
   "source": [
    "df_april.tanggal = df_april.tanggal.str.replace('-', '/')\n",
    "df_april.tanggal = df_april.tanggal.apply(pd.to_datetime, dayfirst = True)\n",
    "df_april.harga = df_april.harga.astype('int64')"
   ]
  },
  {
   "cell_type": "code",
   "execution_count": 342,
   "metadata": {
    "scrolled": false
   },
   "outputs": [
    {
     "name": "stdout",
     "output_type": "stream",
     "text": [
      "['beras medium/kg' 'beras premium/kg' 'gula pasir/kg'\n",
      " 'minyak goreng bimoli botol/liter' 'minyak goreng curah/liter'\n",
      " 'daging sapi lokal paha belakang/kg'\n",
      " 'daging sapi lokal daging has luar (sirloin)/kg'\n",
      " 'daging sapi lokal daging sandung lamur (brisket)/kg'\n",
      " 'daging sapi lokal daging tetelan/kg' 'daging sapi impor beku/kg'\n",
      " 'daging sapi lokal has dalam/kg' 'ayam boiler/ekor' 'ayam kampung/ekor'\n",
      " 'telur ayam ras/kg' 'telur ayam kampung/butir'\n",
      " 'susu kental manis kaleng merk bendera/buah'\n",
      " 'susu kental manis kaleng merk indomilk/buah'\n",
      " 'susu bubuk kaleng merk bendera/buah'\n",
      " 'susu bubuk kaleng merk indomilk/buah' 'jagung pipilan kecil/kg'\n",
      " 'garam beryodium bata/250 gr' 'garam beryodium halus/kg'\n",
      " 'tepung terigu segitiga biru/kg' 'kacang kedelai eks impor/kg'\n",
      " 'kacang kedelai lokal/kg' 'indomie rasa kari ayam/buah'\n",
      " 'cabai merah kriting/kg' 'cabai merah besar/kg' 'cabai rawit merah/kg'\n",
      " 'cabai rawit hijau/kg' 'bawang merah (medium)/kg'\n",
      " 'bawang putih impor kating/kg' 'bawang putih impor honan/kg'\n",
      " 'ikan teri asin/kg' 'ikan kembung/kg' 'kacang hijau/kg' 'kacang tanah/kg'\n",
      " 'ketela pohon/kg']\n"
     ]
    }
   ],
   "source": [
    "print(df_april.komoditas.unique())"
   ]
  },
  {
   "cell_type": "code",
   "execution_count": 343,
   "metadata": {
    "scrolled": true
   },
   "outputs": [
    {
     "data": {
      "text/plain": [
       "2018-04-06    38\n",
       "2018-04-20    38\n",
       "2018-04-11    38\n",
       "2018-04-05    38\n",
       "2018-04-16    38\n",
       "2018-04-27    38\n",
       "2018-04-10    38\n",
       "2018-04-04    38\n",
       "2018-04-26    38\n",
       "2018-04-09    38\n",
       "2018-04-03    38\n",
       "2018-04-23    38\n",
       "2018-04-25    38\n",
       "2018-04-19    38\n",
       "2018-04-02    38\n",
       "2018-04-30    38\n",
       "2018-04-13    38\n",
       "2018-04-24    38\n",
       "2018-04-18    38\n",
       "2018-04-12    38\n",
       "2018-04-17    38\n",
       "Name: tanggal, dtype: int64"
      ]
     },
     "execution_count": 343,
     "metadata": {},
     "output_type": "execute_result"
    }
   ],
   "source": [
    "df_april.tanggal.value_counts()"
   ]
  },
  {
   "cell_type": "markdown",
   "metadata": {},
   "source": [
    "### df[4] = df_mei"
   ]
  },
  {
   "cell_type": "code",
   "execution_count": 344,
   "metadata": {
    "scrolled": true
   },
   "outputs": [
    {
     "data": {
      "text/html": [
       "<div>\n",
       "<style scoped>\n",
       "    .dataframe tbody tr th:only-of-type {\n",
       "        vertical-align: middle;\n",
       "    }\n",
       "\n",
       "    .dataframe tbody tr th {\n",
       "        vertical-align: top;\n",
       "    }\n",
       "\n",
       "    .dataframe thead th {\n",
       "        text-align: right;\n",
       "    }\n",
       "</style>\n",
       "<table border=\"1\" class=\"dataframe\">\n",
       "  <thead>\n",
       "    <tr style=\"text-align: right;\">\n",
       "      <th></th>\n",
       "      <th>TANGGAL,KOMODITI,SATUAN,HARGA</th>\n",
       "    </tr>\n",
       "  </thead>\n",
       "  <tbody>\n",
       "    <tr>\n",
       "      <th>0</th>\n",
       "      <td>02/05/2018,beras medium,kg,10990</td>\n",
       "    </tr>\n",
       "    <tr>\n",
       "      <th>1</th>\n",
       "      <td>03/05/2018,beras medium,kg,11250</td>\n",
       "    </tr>\n",
       "    <tr>\n",
       "      <th>2</th>\n",
       "      <td>04/05/2018,beras medium,kg,11300</td>\n",
       "    </tr>\n",
       "    <tr>\n",
       "      <th>3</th>\n",
       "      <td>07/05/2018,beras medium,kg,11040</td>\n",
       "    </tr>\n",
       "    <tr>\n",
       "      <th>4</th>\n",
       "      <td>08/05/2018,beras medium,kg,11040</td>\n",
       "    </tr>\n",
       "  </tbody>\n",
       "</table>\n",
       "</div>"
      ],
      "text/plain": [
       "      TANGGAL,KOMODITI,SATUAN,HARGA\n",
       "0  02/05/2018,beras medium,kg,10990\n",
       "1  03/05/2018,beras medium,kg,11250\n",
       "2  04/05/2018,beras medium,kg,11300\n",
       "3  07/05/2018,beras medium,kg,11040\n",
       "4  08/05/2018,beras medium,kg,11040"
      ]
     },
     "execution_count": 344,
     "metadata": {},
     "output_type": "execute_result"
    }
   ],
   "source": [
    "df_mei = df[4]\n",
    "df_mei = df_mei.apply(lambda x : x.astype(str).str.lower())\n",
    "df_mei.head()"
   ]
  },
  {
   "cell_type": "code",
   "execution_count": 345,
   "metadata": {
    "scrolled": true
   },
   "outputs": [
    {
     "name": "stdout",
     "output_type": "stream",
     "text": [
      "            0             1   2      3     4     5     6\n",
      "0  02/05/2018  beras medium  kg  10990  None  None  None\n",
      "1  03/05/2018  beras medium  kg  11250  None  None  None\n",
      "2  04/05/2018  beras medium  kg  11300  None  None  None\n",
      "3  07/05/2018  beras medium  kg  11040  None  None  None\n",
      "4  08/05/2018  beras medium  kg  11040  None  None  None\n",
      "5  09/05/2018  beras medium  kg  10940  None  None  None\n",
      "6  11/05/2018  beras medium  kg  10780  None  None  None\n",
      "7  14/05/2018  beras medium  kg  10480  None  None  None\n",
      "8  15/05/2018  beras medium  kg  10380  None  None  None\n",
      "9  16/05/2018  beras medium  kg  10720  None  None  None \n",
      "\n"
     ]
    }
   ],
   "source": [
    "#Split column\n",
    "df_mei = df_mei['TANGGAL,KOMODITI,SATUAN,HARGA'].str.split(',', expand = True)\n",
    "print(df_mei.head(10), '\\n')"
   ]
  },
  {
   "cell_type": "code",
   "execution_count": 346,
   "metadata": {
    "scrolled": true
   },
   "outputs": [
    {
     "name": "stdout",
     "output_type": "stream",
     "text": [
      "      tanggal        komoditas  harga\n",
      "0  02/05/2018  beras medium/kg  10990\n",
      "1  03/05/2018  beras medium/kg  11250\n",
      "2  04/05/2018  beras medium/kg  11300\n",
      "3  07/05/2018  beras medium/kg  11040\n",
      "4  08/05/2018  beras medium/kg  11040\n",
      "5  09/05/2018  beras medium/kg  10940\n",
      "6  11/05/2018  beras medium/kg  10780\n",
      "7  14/05/2018  beras medium/kg  10480\n",
      "8  15/05/2018  beras medium/kg  10380\n",
      "9  16/05/2018  beras medium/kg  10720 \n",
      "\n",
      "     tanggal        komoditas  harga\n",
      "0 2018-05-02  beras medium/kg  10990\n",
      "1 2018-05-03  beras medium/kg  11250\n",
      "2 2018-05-04  beras medium/kg  11300\n",
      "3 2018-05-07  beras medium/kg  11040\n",
      "4 2018-05-08  beras medium/kg  11040\n"
     ]
    }
   ],
   "source": [
    "#put date column in :datecol\n",
    "datecol = df_mei.loc[:, 0]\n",
    "\n",
    "#right shift all column except datecol\n",
    "right_shift = justify(df_mei.loc[:, 1:].values, invalid_val = np.nan, side = 'right')\n",
    "right_shift = pd.DataFrame(right_shift)\n",
    "\n",
    "#print(right_shift[4].value_counts(), '\\n')\n",
    "#print(right_shift[3].value_counts(), '\\n')\n",
    "\n",
    "#combine and drop\n",
    "right_shift[0] = right_shift[right_shift.columns[1:4]]\\\n",
    "                            .apply(lambda x: ''.join(x.dropna().astype(str)),\n",
    "                                  axis = 1).str.lstrip()\n",
    "right_shift[0] = right_shift[right_shift.columns[[0,4]]].apply(lambda x: '/'.join(x), axis = 1)\n",
    "right_shift = right_shift.drop([1, 2, 3, 4], axis = 'columns')\n",
    "\n",
    "#concatenate and drop\n",
    "df_mei = pd.concat([datecol, right_shift], axis = 'columns')\n",
    "df_mei.columns = ['tanggal', 'komoditas', 'harga']\n",
    "print(df_mei.head(10), '\\n')\n",
    "\n",
    "#change tanggal to datetime, harga to int64, replace some strips\n",
    "df_mei.tanggal = df_mei.tanggal.apply(pd.to_datetime, dayfirst = True)\n",
    "df_mei.harga = df_mei.harga.str.replace('.', '').astype('int64')\n",
    "print(df_mei.head())\n"
   ]
  },
  {
   "cell_type": "code",
   "execution_count": 347,
   "metadata": {},
   "outputs": [
    {
     "data": {
      "text/plain": [
       "2018-05-04    38\n",
       "2018-05-21    38\n",
       "2018-05-09    38\n",
       "2018-05-03    38\n",
       "2018-05-31    38\n",
       "2018-05-14    38\n",
       "2018-05-25    38\n",
       "2018-05-08    38\n",
       "2018-05-02    38\n",
       "2018-05-30    38\n",
       "2018-05-24    38\n",
       "2018-05-07    38\n",
       "2018-05-18    38\n",
       "2018-05-23    38\n",
       "2018-05-17    38\n",
       "2018-05-28    38\n",
       "2018-05-11    38\n",
       "2018-05-22    38\n",
       "2018-05-16    38\n",
       "2018-05-15    38\n",
       "Name: tanggal, dtype: int64"
      ]
     },
     "execution_count": 347,
     "metadata": {},
     "output_type": "execute_result"
    }
   ],
   "source": [
    "df_mei.tanggal.value_counts()"
   ]
  },
  {
   "cell_type": "markdown",
   "metadata": {},
   "source": [
    "### df[5] = df_juni"
   ]
  },
  {
   "cell_type": "code",
   "execution_count": 348,
   "metadata": {},
   "outputs": [
    {
     "data": {
      "text/html": [
       "<div>\n",
       "<style scoped>\n",
       "    .dataframe tbody tr th:only-of-type {\n",
       "        vertical-align: middle;\n",
       "    }\n",
       "\n",
       "    .dataframe tbody tr th {\n",
       "        vertical-align: top;\n",
       "    }\n",
       "\n",
       "    .dataframe thead th {\n",
       "        text-align: right;\n",
       "    }\n",
       "</style>\n",
       "<table border=\"1\" class=\"dataframe\">\n",
       "  <thead>\n",
       "    <tr style=\"text-align: right;\">\n",
       "      <th></th>\n",
       "      <th>TANGGAL,KOMODITI,SATUAN,HARGA</th>\n",
       "    </tr>\n",
       "  </thead>\n",
       "  <tbody>\n",
       "    <tr>\n",
       "      <th>0</th>\n",
       "      <td>04/06/2018,beras medium,kg,10780</td>\n",
       "    </tr>\n",
       "    <tr>\n",
       "      <th>1</th>\n",
       "      <td>05/06/2018,beras medium,kg,10820</td>\n",
       "    </tr>\n",
       "    <tr>\n",
       "      <th>2</th>\n",
       "      <td>06/06/2018,beras medium,kg,10970</td>\n",
       "    </tr>\n",
       "    <tr>\n",
       "      <th>3</th>\n",
       "      <td>07/06/2018,beras medium,kg,10920</td>\n",
       "    </tr>\n",
       "    <tr>\n",
       "      <th>4</th>\n",
       "      <td>08/06/2018,beras medium,kg,11030</td>\n",
       "    </tr>\n",
       "  </tbody>\n",
       "</table>\n",
       "</div>"
      ],
      "text/plain": [
       "      TANGGAL,KOMODITI,SATUAN,HARGA\n",
       "0  04/06/2018,beras medium,kg,10780\n",
       "1  05/06/2018,beras medium,kg,10820\n",
       "2  06/06/2018,beras medium,kg,10970\n",
       "3  07/06/2018,beras medium,kg,10920\n",
       "4  08/06/2018,beras medium,kg,11030"
      ]
     },
     "execution_count": 348,
     "metadata": {},
     "output_type": "execute_result"
    }
   ],
   "source": [
    "df_juni = df[5]\n",
    "df_juni = df_juni.apply(lambda x : x.astype(str).str.lower())\n",
    "df_juni.head()"
   ]
  },
  {
   "cell_type": "code",
   "execution_count": 349,
   "metadata": {},
   "outputs": [
    {
     "name": "stdout",
     "output_type": "stream",
     "text": [
      "            0             1   2      3     4     5     6\n",
      "0  04/06/2018  beras medium  kg  10780  None  None  None\n",
      "1  05/06/2018  beras medium  kg  10820  None  None  None\n",
      "2  06/06/2018  beras medium  kg  10970  None  None  None\n",
      "3  07/06/2018  beras medium  kg  10920  None  None  None\n",
      "4  08/06/2018  beras medium  kg  11030  None  None  None\n",
      "5  21/06/2018  beras medium  kg  10920  None  None  None\n",
      "6  22/06/2018  beras medium  kg  11080  None  None  None\n",
      "7  25/06/2018  beras medium  kg  10720  None  None  None\n",
      "8  26/06/2018  beras medium  kg  10820  None  None  None\n",
      "9  28/06/2018  beras medium  kg  10920  None  None  None \n",
      "\n"
     ]
    }
   ],
   "source": [
    "#Split column\n",
    "df_juni = df_juni['TANGGAL,KOMODITI,SATUAN,HARGA'].str.split(',', expand = True)\n",
    "print(df_juni.head(10), '\\n')"
   ]
  },
  {
   "cell_type": "code",
   "execution_count": 350,
   "metadata": {
    "scrolled": true
   },
   "outputs": [
    {
     "name": "stdout",
     "output_type": "stream",
     "text": [
      "      tanggal        komoditas  harga\n",
      "0  04/06/2018  beras medium/kg  10780\n",
      "1  05/06/2018  beras medium/kg  10820\n",
      "2  06/06/2018  beras medium/kg  10970\n",
      "3  07/06/2018  beras medium/kg  10920\n",
      "4  08/06/2018  beras medium/kg  11030\n",
      "5  21/06/2018  beras medium/kg  10920\n",
      "6  22/06/2018  beras medium/kg  11080\n",
      "7  25/06/2018  beras medium/kg  10720\n",
      "8  26/06/2018  beras medium/kg  10820\n",
      "9  28/06/2018  beras medium/kg  10920 \n",
      "\n",
      "     tanggal        komoditas  harga\n",
      "0 2018-06-04  beras medium/kg  10780\n",
      "1 2018-06-05  beras medium/kg  10820\n",
      "2 2018-06-06  beras medium/kg  10970\n",
      "3 2018-06-07  beras medium/kg  10920\n",
      "4 2018-06-08  beras medium/kg  11030\n"
     ]
    }
   ],
   "source": [
    "#put date column in :datecol\n",
    "datecol = df_juni.loc[:, 0]\n",
    "\n",
    "#right shift all column except datecol\n",
    "right_shift = justify(df_juni.loc[:, 1:].values, invalid_val = np.nan, side = 'right')\n",
    "right_shift = pd.DataFrame(right_shift)\n",
    "#print(right_shift[4].value_counts(), '\\n')\n",
    "#print(right_shift[3].value_counts(), '\\n')\n",
    "\n",
    "#combine and drop\n",
    "right_shift[0] = right_shift[right_shift.columns[1:4]]\\\n",
    "                            .apply(lambda x: ''.join(x.dropna().astype(str)),\n",
    "                                  axis = 1).str.lstrip()\n",
    "right_shift[0] = right_shift[right_shift.columns[[0,4]]].apply(lambda x: '/'.join(x), axis = 1)\n",
    "right_shift = right_shift.drop([1, 2, 3, 4], axis = 'columns')\n",
    "\n",
    "#concatenate and drop\n",
    "df_juni = pd.concat([datecol, right_shift], axis = 'columns')\n",
    "df_juni.columns = ['tanggal', 'komoditas', 'harga']\n",
    "print(df_juni.head(10), '\\n')\n",
    "\n",
    "#change tanggal to datetime, harga to int64, replace some strips\n",
    "df_juni.tanggal = df_juni.tanggal.apply(pd.to_datetime, dayfirst = True)\n",
    "df_juni.harga = df_juni.harga.astype('int64')\n",
    "\n",
    "print(df_juni.head())\n"
   ]
  },
  {
   "cell_type": "code",
   "execution_count": 351,
   "metadata": {
    "scrolled": true
   },
   "outputs": [
    {
     "data": {
      "text/plain": [
       "2018-06-04    38\n",
       "2018-06-21    38\n",
       "2018-06-07    38\n",
       "2018-06-05    38\n",
       "2018-06-22    38\n",
       "2018-06-08    38\n",
       "2018-06-25    38\n",
       "2018-06-28    38\n",
       "2018-06-06    38\n",
       "2018-06-26    38\n",
       "2018-06-29    38\n",
       "Name: tanggal, dtype: int64"
      ]
     },
     "execution_count": 351,
     "metadata": {},
     "output_type": "execute_result"
    }
   ],
   "source": [
    "df_juni.tanggal.value_counts()"
   ]
  },
  {
   "cell_type": "markdown",
   "metadata": {},
   "source": [
    "### df[6] = Juli"
   ]
  },
  {
   "cell_type": "code",
   "execution_count": 352,
   "metadata": {},
   "outputs": [
    {
     "data": {
      "text/html": [
       "<div>\n",
       "<style scoped>\n",
       "    .dataframe tbody tr th:only-of-type {\n",
       "        vertical-align: middle;\n",
       "    }\n",
       "\n",
       "    .dataframe tbody tr th {\n",
       "        vertical-align: top;\n",
       "    }\n",
       "\n",
       "    .dataframe thead th {\n",
       "        text-align: right;\n",
       "    }\n",
       "</style>\n",
       "<table border=\"1\" class=\"dataframe\">\n",
       "  <thead>\n",
       "    <tr style=\"text-align: right;\">\n",
       "      <th></th>\n",
       "      <th>tanggal,komoditi,satuan,harga</th>\n",
       "    </tr>\n",
       "  </thead>\n",
       "  <tbody>\n",
       "    <tr>\n",
       "      <th>0</th>\n",
       "      <td>2018-07-02,beras medium,kg,10820</td>\n",
       "    </tr>\n",
       "    <tr>\n",
       "      <th>1</th>\n",
       "      <td>2018-07-03,beras medium,kg,10980</td>\n",
       "    </tr>\n",
       "    <tr>\n",
       "      <th>2</th>\n",
       "      <td>2018-07-04,beras medium,kg,10980</td>\n",
       "    </tr>\n",
       "    <tr>\n",
       "      <th>3</th>\n",
       "      <td>2018-07-05,beras medium,kg,10720</td>\n",
       "    </tr>\n",
       "    <tr>\n",
       "      <th>4</th>\n",
       "      <td>2018-07-06,beras medium,kg,10820</td>\n",
       "    </tr>\n",
       "  </tbody>\n",
       "</table>\n",
       "</div>"
      ],
      "text/plain": [
       "      tanggal,komoditi,satuan,harga\n",
       "0  2018-07-02,beras medium,kg,10820\n",
       "1  2018-07-03,beras medium,kg,10980\n",
       "2  2018-07-04,beras medium,kg,10980\n",
       "3  2018-07-05,beras medium,kg,10720\n",
       "4  2018-07-06,beras medium,kg,10820"
      ]
     },
     "execution_count": 352,
     "metadata": {},
     "output_type": "execute_result"
    }
   ],
   "source": [
    "df_juli = df[6]\n",
    "df_juli = df_juli.apply(lambda x : x.astype(str).str.lower())\n",
    "df_juli.head()"
   ]
  },
  {
   "cell_type": "code",
   "execution_count": 353,
   "metadata": {},
   "outputs": [
    {
     "name": "stdout",
     "output_type": "stream",
     "text": [
      "            0             1   2      3\n",
      "0  2018-07-02  beras medium  kg  10820\n",
      "1  2018-07-03  beras medium  kg  10980\n",
      "2  2018-07-04  beras medium  kg  10980\n",
      "3  2018-07-05  beras medium  kg  10720\n",
      "4  2018-07-06  beras medium  kg  10820\n",
      "5  2018-07-09  beras medium  kg  10900\n",
      "6  2018-07-10  beras medium  kg  10770\n",
      "7  2018-07-11  beras medium  kg  10720\n",
      "8  2018-07-12  beras medium  kg  10680\n",
      "9  2018-07-13  beras medium  kg  10580 \n",
      "\n"
     ]
    }
   ],
   "source": [
    "#Split column\n",
    "df_juli = df_juli['tanggal,komoditi,satuan,harga'].str.split(',', expand = True)\n",
    "df_juli[2] = df_juli[2].str.lower()\n",
    "print(df_juli.head(10), '\\n')"
   ]
  },
  {
   "cell_type": "code",
   "execution_count": 354,
   "metadata": {},
   "outputs": [
    {
     "data": {
      "text/plain": [
       "38"
      ]
     },
     "execution_count": 354,
     "metadata": {},
     "output_type": "execute_result"
    }
   ],
   "source": [
    "df_juli[1].nunique()"
   ]
  },
  {
   "cell_type": "code",
   "execution_count": 355,
   "metadata": {},
   "outputs": [],
   "source": [
    "#combine\n",
    "df_juli[1] = df_juli[df_juli.columns[[1,2]]].apply(lambda x: '/'.join(x), axis = 1)"
   ]
  },
  {
   "cell_type": "code",
   "execution_count": 356,
   "metadata": {},
   "outputs": [],
   "source": [
    "#drop\n",
    "df_juli = df_juli.drop(2, axis = 'columns')\n",
    "df_juli.columns = ['tanggal', 'komoditas', 'harga']\n",
    "df_juli.tanggal = df_juli.tanggal.str.replace('-', '/')\n",
    "\n",
    "#change tanggal to datetime, harga to int64, replace some strips\n",
    "df_juli.tanggal = df_juli.tanggal.apply(pd.to_datetime, dayfirst = True)\n",
    "df_juli.harga = df_juli.harga.astype('int64')\n"
   ]
  },
  {
   "cell_type": "code",
   "execution_count": 357,
   "metadata": {},
   "outputs": [
    {
     "data": {
      "text/plain": [
       "2018-07-05    38\n",
       "2018-07-11    38\n",
       "2018-07-27    38\n",
       "2018-07-10    38\n",
       "2018-07-04    38\n",
       "2018-07-26    38\n",
       "2018-07-09    38\n",
       "2018-07-20    38\n",
       "2018-07-03    38\n",
       "2018-07-31    38\n",
       "2018-07-25    38\n",
       "2018-07-19    38\n",
       "2018-07-02    38\n",
       "2018-07-30    38\n",
       "2018-07-13    38\n",
       "2018-07-24    38\n",
       "2018-07-18    38\n",
       "2018-07-12    38\n",
       "2018-07-23    38\n",
       "2018-07-06    38\n",
       "2018-07-17    38\n",
       "2018-07-16    38\n",
       "Name: tanggal, dtype: int64"
      ]
     },
     "execution_count": 357,
     "metadata": {},
     "output_type": "execute_result"
    }
   ],
   "source": [
    "df_juli.tanggal.value_counts()"
   ]
  },
  {
   "cell_type": "markdown",
   "metadata": {},
   "source": [
    "### df[7] = df_agu"
   ]
  },
  {
   "cell_type": "code",
   "execution_count": 358,
   "metadata": {},
   "outputs": [
    {
     "data": {
      "text/html": [
       "<div>\n",
       "<style scoped>\n",
       "    .dataframe tbody tr th:only-of-type {\n",
       "        vertical-align: middle;\n",
       "    }\n",
       "\n",
       "    .dataframe tbody tr th {\n",
       "        vertical-align: top;\n",
       "    }\n",
       "\n",
       "    .dataframe thead th {\n",
       "        text-align: right;\n",
       "    }\n",
       "</style>\n",
       "<table border=\"1\" class=\"dataframe\">\n",
       "  <thead>\n",
       "    <tr style=\"text-align: right;\">\n",
       "      <th></th>\n",
       "      <th>tanggal,komoditi,satuan,harga</th>\n",
       "    </tr>\n",
       "  </thead>\n",
       "  <tbody>\n",
       "    <tr>\n",
       "      <th>0</th>\n",
       "      <td>2018-08-01,beras medium,kg,10800</td>\n",
       "    </tr>\n",
       "    <tr>\n",
       "      <th>1</th>\n",
       "      <td>2018-08-02,beras medium,kg,10900</td>\n",
       "    </tr>\n",
       "    <tr>\n",
       "      <th>2</th>\n",
       "      <td>2018-08-03,beras medium,kg,10550</td>\n",
       "    </tr>\n",
       "    <tr>\n",
       "      <th>3</th>\n",
       "      <td>2018-08-06,beras medium,kg,10600</td>\n",
       "    </tr>\n",
       "    <tr>\n",
       "      <th>4</th>\n",
       "      <td>2018-08-07,beras medium,kg,10600</td>\n",
       "    </tr>\n",
       "  </tbody>\n",
       "</table>\n",
       "</div>"
      ],
      "text/plain": [
       "      tanggal,komoditi,satuan,harga\n",
       "0  2018-08-01,beras medium,kg,10800\n",
       "1  2018-08-02,beras medium,kg,10900\n",
       "2  2018-08-03,beras medium,kg,10550\n",
       "3  2018-08-06,beras medium,kg,10600\n",
       "4  2018-08-07,beras medium,kg,10600"
      ]
     },
     "execution_count": 358,
     "metadata": {},
     "output_type": "execute_result"
    }
   ],
   "source": [
    "df_agu = df[7]\n",
    "df_agu = df_agu.apply(lambda x : x.astype(str).str.lower())\n",
    "df_agu.head()"
   ]
  },
  {
   "cell_type": "code",
   "execution_count": 359,
   "metadata": {},
   "outputs": [
    {
     "name": "stdout",
     "output_type": "stream",
     "text": [
      "            0             1   2      3     4     5     6\n",
      "0  2018-08-01  beras medium  kg  10800  None  None  None\n",
      "1  2018-08-02  beras medium  kg  10900  None  None  None\n",
      "2  2018-08-03  beras medium  kg  10550  None  None  None\n",
      "3  2018-08-06  beras medium  kg  10600  None  None  None\n",
      "4  2018-08-07  beras medium  kg  10600  None  None  None\n",
      "5  2018-08-08  beras medium  kg  10840  None  None  None\n",
      "6  2018-08-09  beras medium  kg  10840  None  None  None\n",
      "7  2018-08-10  beras medium  kg  10890  None  None  None\n",
      "8  2018-08-13  beras medium  kg  10890  None  None  None\n",
      "9  2018-08-14  beras medium  kg  10990  None  None  None \n",
      "\n"
     ]
    }
   ],
   "source": [
    "#Split column\n",
    "df_agu = df_agu['tanggal,komoditi,satuan,harga'].str.split(',', expand = True)\n",
    "df_agu[2] = df_agu[2].str.lower()\n",
    "print(df_agu.head(10), '\\n')"
   ]
  },
  {
   "cell_type": "code",
   "execution_count": 360,
   "metadata": {
    "scrolled": true
   },
   "outputs": [
    {
     "name": "stdout",
     "output_type": "stream",
     "text": [
      "      tanggal        komoditas  harga\n",
      "0  2018/08/01  beras medium/kg  10800\n",
      "1  2018/08/02  beras medium/kg  10900\n",
      "2  2018/08/03  beras medium/kg  10550\n",
      "3  2018/08/06  beras medium/kg  10600\n",
      "4  2018/08/07  beras medium/kg  10600\n",
      "5  2018/08/08  beras medium/kg  10840\n",
      "6  2018/08/09  beras medium/kg  10840\n",
      "7  2018/08/10  beras medium/kg  10890\n",
      "8  2018/08/13  beras medium/kg  10890\n",
      "9  2018/08/14  beras medium/kg  10990 \n",
      "\n",
      "     tanggal        komoditas  harga\n",
      "0 2018-08-01  beras medium/kg  10800\n",
      "1 2018-08-02  beras medium/kg  10900\n",
      "2 2018-08-03  beras medium/kg  10550\n",
      "3 2018-08-06  beras medium/kg  10600\n",
      "4 2018-08-07  beras medium/kg  10600\n"
     ]
    }
   ],
   "source": [
    "#put date column in :datecol\n",
    "datecol = df_agu.loc[:, 0]\n",
    "datecol = datecol.str.replace('-', '/')\n",
    "\n",
    "#right shift all column except datecol\n",
    "right_shift = justify(df_agu.loc[:, 1:].values, invalid_val = np.nan, side = 'right')\n",
    "right_shift = pd.DataFrame(right_shift)\n",
    "\n",
    "#combine and drop\n",
    "right_shift[0] = right_shift[right_shift.columns[1:4]]\\\n",
    "                            .apply(lambda x: ''.join(x.dropna().astype(str)),\n",
    "                                  axis = 1).str.lstrip()\n",
    "right_shift[0] = right_shift[right_shift.columns[[0,4]]].apply(lambda x: '/'.join(x), axis = 1)\n",
    "right_shift = right_shift.drop([1, 2, 3, 4], axis = 'columns')\n",
    "\n",
    "#concatenate and drop\n",
    "df_agu = pd.concat([datecol, right_shift], axis = 'columns')\n",
    "df_agu.columns = ['tanggal', 'komoditas', 'harga']\n",
    "print(df_agu.head(10), '\\n')\n",
    "\n",
    "#change tanggal to datetime, harga to int64, replace some strips\n",
    "df_agu.komoditas = df_agu.komoditas.str.replace('\"', '')\n",
    "df_agu.tanggal = df_agu.tanggal.apply(pd.to_datetime, dayfirst = True)\n",
    "df_agu.harga = df_agu.harga.astype('int64')\n",
    "\n",
    "print(df_agu.head())"
   ]
  },
  {
   "cell_type": "code",
   "execution_count": 361,
   "metadata": {},
   "outputs": [
    {
     "data": {
      "text/plain": [
       "2018-08-08    38\n",
       "2018-08-22    38\n",
       "2018-08-30    38\n",
       "2018-08-13    38\n",
       "2018-08-07    38\n",
       "2018-08-01    38\n",
       "2018-08-29    38\n",
       "2018-08-23    38\n",
       "2018-08-06    38\n",
       "2018-08-28    38\n",
       "2018-08-16    38\n",
       "2018-08-14    38\n",
       "2018-08-27    38\n",
       "2018-08-10    38\n",
       "2018-08-21    38\n",
       "2018-08-15    38\n",
       "2018-08-09    38\n",
       "2018-08-20    38\n",
       "2018-08-03    38\n",
       "2018-08-31    38\n",
       "2018-08-02    38\n",
       "Name: tanggal, dtype: int64"
      ]
     },
     "execution_count": 361,
     "metadata": {},
     "output_type": "execute_result"
    }
   ],
   "source": [
    "df_agu.tanggal.value_counts()"
   ]
  },
  {
   "cell_type": "markdown",
   "metadata": {},
   "source": [
    "### df[8] = df_sep"
   ]
  },
  {
   "cell_type": "code",
   "execution_count": 362,
   "metadata": {
    "scrolled": false
   },
   "outputs": [
    {
     "data": {
      "text/html": [
       "<div>\n",
       "<style scoped>\n",
       "    .dataframe tbody tr th:only-of-type {\n",
       "        vertical-align: middle;\n",
       "    }\n",
       "\n",
       "    .dataframe tbody tr th {\n",
       "        vertical-align: top;\n",
       "    }\n",
       "\n",
       "    .dataframe thead th {\n",
       "        text-align: right;\n",
       "    }\n",
       "</style>\n",
       "<table border=\"1\" class=\"dataframe\">\n",
       "  <thead>\n",
       "    <tr style=\"text-align: right;\">\n",
       "      <th></th>\n",
       "      <th>tanggal,komoditi,satuan,harga</th>\n",
       "    </tr>\n",
       "  </thead>\n",
       "  <tbody>\n",
       "    <tr>\n",
       "      <th>0</th>\n",
       "      <td>2018-09-03,beras medium,kg,10840</td>\n",
       "    </tr>\n",
       "    <tr>\n",
       "      <th>1</th>\n",
       "      <td>2018-09-04,beras medium,kg,10840</td>\n",
       "    </tr>\n",
       "    <tr>\n",
       "      <th>2</th>\n",
       "      <td>2018-09-05,beras medium,kg,10540</td>\n",
       "    </tr>\n",
       "    <tr>\n",
       "      <th>3</th>\n",
       "      <td>2018-09-06,beras medium,kg,10540</td>\n",
       "    </tr>\n",
       "    <tr>\n",
       "      <th>4</th>\n",
       "      <td>2018-09-07,beras medium,kg,10640</td>\n",
       "    </tr>\n",
       "  </tbody>\n",
       "</table>\n",
       "</div>"
      ],
      "text/plain": [
       "      tanggal,komoditi,satuan,harga\n",
       "0  2018-09-03,beras medium,kg,10840\n",
       "1  2018-09-04,beras medium,kg,10840\n",
       "2  2018-09-05,beras medium,kg,10540\n",
       "3  2018-09-06,beras medium,kg,10540\n",
       "4  2018-09-07,beras medium,kg,10640"
      ]
     },
     "execution_count": 362,
     "metadata": {},
     "output_type": "execute_result"
    }
   ],
   "source": [
    "df_sep = df[8]\n",
    "df_sep = df_sep.apply(lambda x : x.astype(str).str.lower())\n",
    "df_sep.head()"
   ]
  },
  {
   "cell_type": "code",
   "execution_count": 363,
   "metadata": {
    "scrolled": true
   },
   "outputs": [
    {
     "name": "stdout",
     "output_type": "stream",
     "text": [
      "            0             1   2      3     4     5     6\n",
      "0  2018-09-03  beras medium  kg  10840  None  None  None\n",
      "1  2018-09-04  beras medium  kg  10840  None  None  None\n",
      "2  2018-09-05  beras medium  kg  10540  None  None  None\n",
      "3  2018-09-06  beras medium  kg  10540  None  None  None\n",
      "4  2018-09-07  beras medium  kg  10640  None  None  None\n",
      "5  2018-09-10  beras medium  kg  10640  None  None  None\n",
      "6  2018-09-12  beras medium  kg  10640  None  None  None\n",
      "7  2018-09-13  beras medium  kg  10540  None  None  None\n",
      "8  2018-09-14  beras medium  kg  10640  None  None  None\n",
      "9  2018-09-17  beras medium  kg  10840  None  None  None \n",
      "\n"
     ]
    }
   ],
   "source": [
    "#Split column\n",
    "df_sep = df_sep['tanggal,komoditi,satuan,harga'].str.split(',', expand = True)\n",
    "print(df_sep.head(10), '\\n')"
   ]
  },
  {
   "cell_type": "code",
   "execution_count": 364,
   "metadata": {},
   "outputs": [
    {
     "name": "stdout",
     "output_type": "stream",
     "text": [
      "     tanggal        komoditas  harga\n",
      "0 2018-09-03  beras medium/kg  10840\n",
      "1 2018-09-04  beras medium/kg  10840\n",
      "2 2018-09-05  beras medium/kg  10540\n",
      "3 2018-09-06  beras medium/kg  10540\n",
      "4 2018-09-07  beras medium/kg  10640\n"
     ]
    }
   ],
   "source": [
    "#put date column in :datecol\n",
    "datecol = df_sep.loc[:, 0]\n",
    "datecol = datecol.str.replace('-', '/')\n",
    "\n",
    "\n",
    "#right shift all column except datecol\n",
    "right_shift = justify(df_sep.loc[:, 1:].values, invalid_val = np.nan, side = 'right')\n",
    "right_shift = pd.DataFrame(right_shift)\n",
    "\n",
    "#combine and drop\n",
    "right_shift[0] = right_shift[right_shift.columns[1:4]]\\\n",
    "                            .apply(lambda x: ''.join(x.dropna().astype(str)),\n",
    "                                  axis = 1).str.lstrip()\n",
    "right_shift[0] = right_shift[right_shift.columns[[0,4]]].apply(lambda x: '/'.join(x), axis = 1)\n",
    "right_shift = right_shift.drop([1, 2, 3, 4], axis = 'columns')\n",
    "\n",
    "#concatenate and drop\n",
    "df_sep = pd.concat([datecol, right_shift], axis = 'columns')\n",
    "df_sep.columns = ['tanggal', 'komoditas', 'harga']\n",
    "\n",
    "#change tanggal to datetime, harga to int64, replace some strips\n",
    "df_sep.komoditas = df_sep.komoditas.str.replace('\"', '')\n",
    "df_sep.tanggal = df_sep.tanggal.apply(pd.to_datetime, dayfirst = True)\n",
    "df_sep.harga = df_sep.harga.astype('int64')\n",
    "\n",
    "print(df_sep.head())\n",
    "\n",
    "#Pivoting\n",
    "sep_pivot = df_sep.pivot(index = 'tanggal', columns = 'komoditas', values = 'harga')"
   ]
  },
  {
   "cell_type": "code",
   "execution_count": 365,
   "metadata": {
    "scrolled": true
   },
   "outputs": [
    {
     "data": {
      "text/html": [
       "<div>\n",
       "<style scoped>\n",
       "    .dataframe tbody tr th:only-of-type {\n",
       "        vertical-align: middle;\n",
       "    }\n",
       "\n",
       "    .dataframe tbody tr th {\n",
       "        vertical-align: top;\n",
       "    }\n",
       "\n",
       "    .dataframe thead th {\n",
       "        text-align: right;\n",
       "    }\n",
       "</style>\n",
       "<table border=\"1\" class=\"dataframe\">\n",
       "  <thead>\n",
       "    <tr style=\"text-align: right;\">\n",
       "      <th>komoditas</th>\n",
       "      <th>ayam boiler/ekor</th>\n",
       "      <th>ayam kampung/ekor</th>\n",
       "      <th>bawang merah (medium)/kg</th>\n",
       "      <th>bawang putih impor honan/kg</th>\n",
       "      <th>bawang putih impor kating/kg</th>\n",
       "      <th>beras medium/kg</th>\n",
       "      <th>beras premium/kg</th>\n",
       "      <th>cabai merah besar/kg</th>\n",
       "      <th>cabai merah kriting/kg</th>\n",
       "      <th>cabai rawit hijau/kg</th>\n",
       "      <th>...</th>\n",
       "      <th>lokal daging tetelan/kg</th>\n",
       "      <th>minyak goreng bimoli botol/liter</th>\n",
       "      <th>minyak goreng curah/liter</th>\n",
       "      <th>susu bubuk kaleng merk bendera/buah</th>\n",
       "      <th>susu bubuk kaleng merk indomilk/buah</th>\n",
       "      <th>susu kental manis kaleng merk bendera/buah</th>\n",
       "      <th>susu kental manis kaleng merk indomilk/buah</th>\n",
       "      <th>telur ayam kampung/butir</th>\n",
       "      <th>telur ayam ras/kg</th>\n",
       "      <th>tepung terigu segitiga biru/kg</th>\n",
       "    </tr>\n",
       "    <tr>\n",
       "      <th>tanggal</th>\n",
       "      <th></th>\n",
       "      <th></th>\n",
       "      <th></th>\n",
       "      <th></th>\n",
       "      <th></th>\n",
       "      <th></th>\n",
       "      <th></th>\n",
       "      <th></th>\n",
       "      <th></th>\n",
       "      <th></th>\n",
       "      <th></th>\n",
       "      <th></th>\n",
       "      <th></th>\n",
       "      <th></th>\n",
       "      <th></th>\n",
       "      <th></th>\n",
       "      <th></th>\n",
       "      <th></th>\n",
       "      <th></th>\n",
       "      <th></th>\n",
       "      <th></th>\n",
       "    </tr>\n",
       "  </thead>\n",
       "  <tbody>\n",
       "    <tr>\n",
       "      <th>2018-09-03</th>\n",
       "      <td>35440</td>\n",
       "      <td>80000</td>\n",
       "      <td>27660</td>\n",
       "      <td>27500</td>\n",
       "      <td>29940</td>\n",
       "      <td>10840</td>\n",
       "      <td>12575</td>\n",
       "      <td>37660</td>\n",
       "      <td>31500</td>\n",
       "      <td>37500</td>\n",
       "      <td>...</td>\n",
       "      <td>71667</td>\n",
       "      <td>13200</td>\n",
       "      <td>12400</td>\n",
       "      <td>44175</td>\n",
       "      <td>42550</td>\n",
       "      <td>11300</td>\n",
       "      <td>10020</td>\n",
       "      <td>2320</td>\n",
       "      <td>23740</td>\n",
       "      <td>10240</td>\n",
       "    </tr>\n",
       "    <tr>\n",
       "      <th>2018-09-04</th>\n",
       "      <td>35940</td>\n",
       "      <td>82500</td>\n",
       "      <td>28460</td>\n",
       "      <td>27500</td>\n",
       "      <td>30440</td>\n",
       "      <td>10840</td>\n",
       "      <td>12575</td>\n",
       "      <td>37660</td>\n",
       "      <td>32500</td>\n",
       "      <td>36500</td>\n",
       "      <td>...</td>\n",
       "      <td>65000</td>\n",
       "      <td>13150</td>\n",
       "      <td>12300</td>\n",
       "      <td>44175</td>\n",
       "      <td>42550</td>\n",
       "      <td>11300</td>\n",
       "      <td>10020</td>\n",
       "      <td>2320</td>\n",
       "      <td>23690</td>\n",
       "      <td>10240</td>\n",
       "    </tr>\n",
       "    <tr>\n",
       "      <th>2018-09-05</th>\n",
       "      <td>35940</td>\n",
       "      <td>82500</td>\n",
       "      <td>26460</td>\n",
       "      <td>26500</td>\n",
       "      <td>29540</td>\n",
       "      <td>10540</td>\n",
       "      <td>12450</td>\n",
       "      <td>38660</td>\n",
       "      <td>28300</td>\n",
       "      <td>34500</td>\n",
       "      <td>...</td>\n",
       "      <td>70000</td>\n",
       "      <td>13100</td>\n",
       "      <td>12200</td>\n",
       "      <td>44175</td>\n",
       "      <td>42550</td>\n",
       "      <td>11300</td>\n",
       "      <td>9920</td>\n",
       "      <td>2330</td>\n",
       "      <td>23740</td>\n",
       "      <td>10240</td>\n",
       "    </tr>\n",
       "    <tr>\n",
       "      <th>2018-09-06</th>\n",
       "      <td>34940</td>\n",
       "      <td>82500</td>\n",
       "      <td>28160</td>\n",
       "      <td>27500</td>\n",
       "      <td>32840</td>\n",
       "      <td>10540</td>\n",
       "      <td>12388</td>\n",
       "      <td>39160</td>\n",
       "      <td>31900</td>\n",
       "      <td>37000</td>\n",
       "      <td>...</td>\n",
       "      <td>70000</td>\n",
       "      <td>13000</td>\n",
       "      <td>12300</td>\n",
       "      <td>44175</td>\n",
       "      <td>42550</td>\n",
       "      <td>11500</td>\n",
       "      <td>9920</td>\n",
       "      <td>2320</td>\n",
       "      <td>23540</td>\n",
       "      <td>10040</td>\n",
       "    </tr>\n",
       "    <tr>\n",
       "      <th>2018-09-07</th>\n",
       "      <td>34940</td>\n",
       "      <td>85000</td>\n",
       "      <td>28660</td>\n",
       "      <td>26500</td>\n",
       "      <td>32340</td>\n",
       "      <td>10640</td>\n",
       "      <td>12575</td>\n",
       "      <td>39160</td>\n",
       "      <td>31000</td>\n",
       "      <td>33500</td>\n",
       "      <td>...</td>\n",
       "      <td>71667</td>\n",
       "      <td>13100</td>\n",
       "      <td>12100</td>\n",
       "      <td>44175</td>\n",
       "      <td>42550</td>\n",
       "      <td>11300</td>\n",
       "      <td>9920</td>\n",
       "      <td>2370</td>\n",
       "      <td>23140</td>\n",
       "      <td>10140</td>\n",
       "    </tr>\n",
       "  </tbody>\n",
       "</table>\n",
       "<p>5 rows × 38 columns</p>\n",
       "</div>"
      ],
      "text/plain": [
       "komoditas   ayam boiler/ekor  ayam kampung/ekor  bawang merah (medium)/kg  \\\n",
       "tanggal                                                                     \n",
       "2018-09-03             35440              80000                     27660   \n",
       "2018-09-04             35940              82500                     28460   \n",
       "2018-09-05             35940              82500                     26460   \n",
       "2018-09-06             34940              82500                     28160   \n",
       "2018-09-07             34940              85000                     28660   \n",
       "\n",
       "komoditas   bawang putih impor honan/kg  bawang putih impor kating/kg  \\\n",
       "tanggal                                                                 \n",
       "2018-09-03                        27500                         29940   \n",
       "2018-09-04                        27500                         30440   \n",
       "2018-09-05                        26500                         29540   \n",
       "2018-09-06                        27500                         32840   \n",
       "2018-09-07                        26500                         32340   \n",
       "\n",
       "komoditas   beras medium/kg  beras premium/kg  cabai merah besar/kg  \\\n",
       "tanggal                                                               \n",
       "2018-09-03            10840             12575                 37660   \n",
       "2018-09-04            10840             12575                 37660   \n",
       "2018-09-05            10540             12450                 38660   \n",
       "2018-09-06            10540             12388                 39160   \n",
       "2018-09-07            10640             12575                 39160   \n",
       "\n",
       "komoditas   cabai merah kriting/kg  cabai rawit hijau/kg  ...  \\\n",
       "tanggal                                                   ...   \n",
       "2018-09-03                   31500                 37500  ...   \n",
       "2018-09-04                   32500                 36500  ...   \n",
       "2018-09-05                   28300                 34500  ...   \n",
       "2018-09-06                   31900                 37000  ...   \n",
       "2018-09-07                   31000                 33500  ...   \n",
       "\n",
       "komoditas   lokal daging tetelan/kg  minyak goreng bimoli botol/liter  \\\n",
       "tanggal                                                                 \n",
       "2018-09-03                    71667                             13200   \n",
       "2018-09-04                    65000                             13150   \n",
       "2018-09-05                    70000                             13100   \n",
       "2018-09-06                    70000                             13000   \n",
       "2018-09-07                    71667                             13100   \n",
       "\n",
       "komoditas   minyak goreng curah/liter  susu bubuk kaleng merk bendera/buah  \\\n",
       "tanggal                                                                      \n",
       "2018-09-03                      12400                                44175   \n",
       "2018-09-04                      12300                                44175   \n",
       "2018-09-05                      12200                                44175   \n",
       "2018-09-06                      12300                                44175   \n",
       "2018-09-07                      12100                                44175   \n",
       "\n",
       "komoditas   susu bubuk kaleng merk indomilk/buah  \\\n",
       "tanggal                                            \n",
       "2018-09-03                                 42550   \n",
       "2018-09-04                                 42550   \n",
       "2018-09-05                                 42550   \n",
       "2018-09-06                                 42550   \n",
       "2018-09-07                                 42550   \n",
       "\n",
       "komoditas   susu kental manis kaleng merk bendera/buah  \\\n",
       "tanggal                                                  \n",
       "2018-09-03                                       11300   \n",
       "2018-09-04                                       11300   \n",
       "2018-09-05                                       11300   \n",
       "2018-09-06                                       11500   \n",
       "2018-09-07                                       11300   \n",
       "\n",
       "komoditas   susu kental manis kaleng merk indomilk/buah  \\\n",
       "tanggal                                                   \n",
       "2018-09-03                                        10020   \n",
       "2018-09-04                                        10020   \n",
       "2018-09-05                                         9920   \n",
       "2018-09-06                                         9920   \n",
       "2018-09-07                                         9920   \n",
       "\n",
       "komoditas   telur ayam kampung/butir  telur ayam ras/kg  \\\n",
       "tanggal                                                   \n",
       "2018-09-03                      2320              23740   \n",
       "2018-09-04                      2320              23690   \n",
       "2018-09-05                      2330              23740   \n",
       "2018-09-06                      2320              23540   \n",
       "2018-09-07                      2370              23140   \n",
       "\n",
       "komoditas   tepung terigu segitiga biru/kg  \n",
       "tanggal                                     \n",
       "2018-09-03                           10240  \n",
       "2018-09-04                           10240  \n",
       "2018-09-05                           10240  \n",
       "2018-09-06                           10040  \n",
       "2018-09-07                           10140  \n",
       "\n",
       "[5 rows x 38 columns]"
      ]
     },
     "execution_count": 365,
     "metadata": {},
     "output_type": "execute_result"
    }
   ],
   "source": [
    "sep_pivot.head()"
   ]
  },
  {
   "cell_type": "code",
   "execution_count": 366,
   "metadata": {},
   "outputs": [
    {
     "data": {
      "text/plain": [
       "2018-09-05    38\n",
       "2018-09-25    38\n",
       "2018-09-10    38\n",
       "2018-09-21    38\n",
       "2018-09-04    38\n",
       "2018-09-26    38\n",
       "2018-09-20    38\n",
       "2018-09-03    38\n",
       "2018-09-14    38\n",
       "2018-09-19    38\n",
       "2018-09-28    38\n",
       "2018-09-13    38\n",
       "2018-09-24    38\n",
       "2018-09-07    38\n",
       "2018-09-18    38\n",
       "2018-09-12    38\n",
       "2018-09-06    38\n",
       "2018-09-17    38\n",
       "2018-09-27    38\n",
       "Name: tanggal, dtype: int64"
      ]
     },
     "execution_count": 366,
     "metadata": {},
     "output_type": "execute_result"
    }
   ],
   "source": [
    "df_sep.tanggal.value_counts()"
   ]
  },
  {
   "cell_type": "markdown",
   "metadata": {},
   "source": [
    "### df[9] = df_okt"
   ]
  },
  {
   "cell_type": "code",
   "execution_count": 367,
   "metadata": {},
   "outputs": [
    {
     "data": {
      "text/html": [
       "<div>\n",
       "<style scoped>\n",
       "    .dataframe tbody tr th:only-of-type {\n",
       "        vertical-align: middle;\n",
       "    }\n",
       "\n",
       "    .dataframe tbody tr th {\n",
       "        vertical-align: top;\n",
       "    }\n",
       "\n",
       "    .dataframe thead th {\n",
       "        text-align: right;\n",
       "    }\n",
       "</style>\n",
       "<table border=\"1\" class=\"dataframe\">\n",
       "  <thead>\n",
       "    <tr style=\"text-align: right;\">\n",
       "      <th></th>\n",
       "      <th>tanggal ,komoditi,satuan,harga</th>\n",
       "    </tr>\n",
       "  </thead>\n",
       "  <tbody>\n",
       "    <tr>\n",
       "      <th>0</th>\n",
       "      <td>2018-10-01,beras medium,kg,10740</td>\n",
       "    </tr>\n",
       "    <tr>\n",
       "      <th>1</th>\n",
       "      <td>2018-10-02,beras medium,kg,10740</td>\n",
       "    </tr>\n",
       "    <tr>\n",
       "      <th>2</th>\n",
       "      <td>2018-10-03,beras medium,kg,10690</td>\n",
       "    </tr>\n",
       "    <tr>\n",
       "      <th>3</th>\n",
       "      <td>2018-10-04,beras medium,kg,10640</td>\n",
       "    </tr>\n",
       "    <tr>\n",
       "      <th>4</th>\n",
       "      <td>2018-10-05,beras medium,kg,10540</td>\n",
       "    </tr>\n",
       "  </tbody>\n",
       "</table>\n",
       "</div>"
      ],
      "text/plain": [
       "     tanggal ,komoditi,satuan,harga\n",
       "0  2018-10-01,beras medium,kg,10740\n",
       "1  2018-10-02,beras medium,kg,10740\n",
       "2  2018-10-03,beras medium,kg,10690\n",
       "3  2018-10-04,beras medium,kg,10640\n",
       "4  2018-10-05,beras medium,kg,10540"
      ]
     },
     "execution_count": 367,
     "metadata": {},
     "output_type": "execute_result"
    }
   ],
   "source": [
    "df_okt = df[9]\n",
    "df_okt = df_okt.apply(lambda x : x.astype(str).str.lower())\n",
    "df_okt.head()"
   ]
  },
  {
   "cell_type": "code",
   "execution_count": 368,
   "metadata": {},
   "outputs": [
    {
     "name": "stdout",
     "output_type": "stream",
     "text": [
      "            0             1   2      3     4     5     6\n",
      "0  2018-10-01  beras medium  kg  10740  None  None  None\n",
      "1  2018-10-02  beras medium  kg  10740  None  None  None\n",
      "2  2018-10-03  beras medium  kg  10690  None  None  None\n",
      "3  2018-10-04  beras medium  kg  10640  None  None  None\n",
      "4  2018-10-05  beras medium  kg  10540  None  None  None\n",
      "5  2018-10-08  beras medium  kg  10540  None  None  None\n",
      "6  2018-10-09  beras medium  kg  10540  None  None  None\n",
      "7  2018-10-10  beras medium  kg  10740  None  None  None\n",
      "8  2018-10-11  beras medium  kg  10940  None  None  None\n",
      "9  2018-10-12  beras medium  kg  10740  None  None  None \n",
      "\n"
     ]
    }
   ],
   "source": [
    "#Split column\n",
    "df_okt = df_okt['tanggal ,komoditi,satuan,harga'].str.split(',', expand = True)\n",
    "print(df_okt.head(10), '\\n')"
   ]
  },
  {
   "cell_type": "code",
   "execution_count": 369,
   "metadata": {
    "scrolled": true
   },
   "outputs": [
    {
     "name": "stdout",
     "output_type": "stream",
     "text": [
      "      tanggal        komoditas  harga\n",
      "0  2018/10/01  beras medium/kg  10740\n",
      "1  2018/10/02  beras medium/kg  10740\n",
      "2  2018/10/03  beras medium/kg  10690\n",
      "3  2018/10/04  beras medium/kg  10640\n",
      "4  2018/10/05  beras medium/kg  10540\n",
      "5  2018/10/08  beras medium/kg  10540\n",
      "6  2018/10/09  beras medium/kg  10540\n",
      "7  2018/10/10  beras medium/kg  10740\n",
      "8  2018/10/11  beras medium/kg  10940\n",
      "9  2018/10/12  beras medium/kg  10740 \n",
      "\n",
      "     tanggal        komoditas  harga\n",
      "0 2018-10-01  beras medium/kg  10740\n",
      "1 2018-10-02  beras medium/kg  10740\n",
      "2 2018-10-03  beras medium/kg  10690\n",
      "3 2018-10-04  beras medium/kg  10640\n",
      "4 2018-10-05  beras medium/kg  10540\n"
     ]
    }
   ],
   "source": [
    "#put date column in :datecol\n",
    "datecol = df_okt.loc[:, 0]\n",
    "datecol = datecol.str.replace('-', '/')\n",
    "\n",
    "\n",
    "#right shift all column except datecol\n",
    "right_shift = justify(df_okt.loc[:, 1:].values, invalid_val = np.nan, side = 'right')\n",
    "right_shift = pd.DataFrame(right_shift)\n",
    "\n",
    "#combine and drop\n",
    "right_shift[0] = right_shift[right_shift.columns[1:4]]\\\n",
    "                            .apply(lambda x: ''.join(x.dropna().astype(str)),\n",
    "                                  axis = 1).str.lstrip()\n",
    "right_shift[0] = right_shift[right_shift.columns[[0,4]]].apply(lambda x: '/'.join(x), axis = 1)\n",
    "right_shift = right_shift.drop([1, 2, 3, 4], axis = 'columns')\n",
    "\n",
    "#concatenate and drop\n",
    "df_okt = pd.concat([datecol, right_shift], axis = 'columns')\n",
    "df_okt.columns = ['tanggal', 'komoditas', 'harga']\n",
    "print(df_okt.head(10), '\\n')\n",
    "\n",
    "#change tanggal to datetime, harga to int64, replace some strips\n",
    "df_okt.komoditas = df_okt.komoditas.str.replace('\"', '')\n",
    "df_okt.tanggal = df_okt.tanggal.apply(pd.to_datetime, dayfirst = True)\n",
    "df_okt.harga = df_okt.harga.astype('int64')\n",
    "\n",
    "print(df_okt.head())\n"
   ]
  },
  {
   "cell_type": "code",
   "execution_count": 370,
   "metadata": {},
   "outputs": [
    {
     "data": {
      "text/plain": [
       "tanggal       23\n",
       "komoditas     38\n",
       "harga        341\n",
       "dtype: int64"
      ]
     },
     "execution_count": 370,
     "metadata": {},
     "output_type": "execute_result"
    }
   ],
   "source": [
    "df_okt.nunique()"
   ]
  },
  {
   "cell_type": "code",
   "execution_count": 371,
   "metadata": {},
   "outputs": [
    {
     "data": {
      "text/plain": [
       "2018-10-09    38\n",
       "2018-10-29    38\n",
       "2018-10-31    38\n",
       "2018-10-25    38\n",
       "2018-10-08    38\n",
       "2018-10-19    38\n",
       "2018-10-02    38\n",
       "2018-10-30    38\n",
       "2018-10-24    38\n",
       "2018-10-18    38\n",
       "2018-10-01    38\n",
       "2018-10-12    38\n",
       "2018-10-26    38\n",
       "2018-10-23    38\n",
       "2018-10-17    38\n",
       "2018-10-11    38\n",
       "2018-10-22    38\n",
       "2018-10-05    38\n",
       "2018-10-16    38\n",
       "2018-10-10    38\n",
       "2018-10-04    38\n",
       "2018-10-15    38\n",
       "2018-10-03    38\n",
       "Name: tanggal, dtype: int64"
      ]
     },
     "execution_count": 371,
     "metadata": {},
     "output_type": "execute_result"
    }
   ],
   "source": [
    "df_okt.tanggal.value_counts()"
   ]
  },
  {
   "cell_type": "markdown",
   "metadata": {},
   "source": [
    "### df[10] = df_nov"
   ]
  },
  {
   "cell_type": "code",
   "execution_count": 372,
   "metadata": {
    "scrolled": true
   },
   "outputs": [
    {
     "data": {
      "text/html": [
       "<div>\n",
       "<style scoped>\n",
       "    .dataframe tbody tr th:only-of-type {\n",
       "        vertical-align: middle;\n",
       "    }\n",
       "\n",
       "    .dataframe tbody tr th {\n",
       "        vertical-align: top;\n",
       "    }\n",
       "\n",
       "    .dataframe thead th {\n",
       "        text-align: right;\n",
       "    }\n",
       "</style>\n",
       "<table border=\"1\" class=\"dataframe\">\n",
       "  <thead>\n",
       "    <tr style=\"text-align: right;\">\n",
       "      <th></th>\n",
       "      <th>tanggal,bulan,tahun,komoditi,satuan,harga</th>\n",
       "    </tr>\n",
       "  </thead>\n",
       "  <tbody>\n",
       "    <tr>\n",
       "      <th>0</th>\n",
       "      <td>1,november,2018,beras medium,kg,\"10,860\"</td>\n",
       "    </tr>\n",
       "    <tr>\n",
       "      <th>1</th>\n",
       "      <td>2,november,2018,beras medium,kg,\"10,860\"</td>\n",
       "    </tr>\n",
       "    <tr>\n",
       "      <th>2</th>\n",
       "      <td>5,november,2018,beras medium,kg,\"10,760\"</td>\n",
       "    </tr>\n",
       "    <tr>\n",
       "      <th>3</th>\n",
       "      <td>6,november,2018,beras medium,kg,\"10,710\"</td>\n",
       "    </tr>\n",
       "    <tr>\n",
       "      <th>4</th>\n",
       "      <td>7,november,2018,beras medium,kg,\"10,760\"</td>\n",
       "    </tr>\n",
       "  </tbody>\n",
       "</table>\n",
       "</div>"
      ],
      "text/plain": [
       "  tanggal,bulan,tahun,komoditi,satuan,harga\n",
       "0  1,november,2018,beras medium,kg,\"10,860\"\n",
       "1  2,november,2018,beras medium,kg,\"10,860\"\n",
       "2  5,november,2018,beras medium,kg,\"10,760\"\n",
       "3  6,november,2018,beras medium,kg,\"10,710\"\n",
       "4  7,november,2018,beras medium,kg,\"10,760\""
      ]
     },
     "execution_count": 372,
     "metadata": {},
     "output_type": "execute_result"
    }
   ],
   "source": [
    "df_nov = df[10]\n",
    "df_nov = df_nov.apply(lambda x : x.astype(str).str.lower())\n",
    "df_nov.head()"
   ]
  },
  {
   "cell_type": "code",
   "execution_count": 373,
   "metadata": {},
   "outputs": [
    {
     "name": "stdout",
     "output_type": "stream",
     "text": [
      "            0             1   2    3     4     5     6     7\n",
      "0   1/11/2018  beras medium  kg  \"10  860\"  None  None  None\n",
      "1   2/11/2018  beras medium  kg  \"10  860\"  None  None  None\n",
      "2   5/11/2018  beras medium  kg  \"10  760\"  None  None  None\n",
      "3   6/11/2018  beras medium  kg  \"10  710\"  None  None  None\n",
      "4   7/11/2018  beras medium  kg  \"10  760\"  None  None  None\n",
      "5   8/11/2018  beras medium  kg  \"10  560\"  None  None  None\n",
      "6   9/11/2018  beras medium  kg  \"10  760\"  None  None  None\n",
      "7  12/11/2018  beras medium  kg  \"10  860\"  None  None  None\n",
      "8  13/11/2018  beras medium  kg  \"10  540\"  None  None  None\n",
      "9  14/11/2018  beras medium  kg  \"10  490\"  None  None  None \n",
      "\n"
     ]
    }
   ],
   "source": [
    "#strip and split\n",
    "df_nov.columns = [0]\n",
    "df_nov[0] = df_nov[0].str.replace(',november,','/11/')\n",
    "\n",
    "df_nov = df_nov[0].str.split(',', expand = True)\n",
    "print(df_nov.head(10), '\\n')"
   ]
  },
  {
   "cell_type": "code",
   "execution_count": 374,
   "metadata": {},
   "outputs": [
    {
     "name": "stdout",
     "output_type": "stream",
     "text": [
      "     tanggal        komoditas  harga\n",
      "0 2018-11-01  beras medium/kg  10860\n",
      "1 2018-11-02  beras medium/kg  10860\n",
      "2 2018-11-05  beras medium/kg  10760\n",
      "3 2018-11-06  beras medium/kg  10710\n",
      "4 2018-11-07  beras medium/kg  10760\n"
     ]
    }
   ],
   "source": [
    "#put date column in :datecol\n",
    "datecol = df_nov.loc[:, 0]\n",
    "\n",
    "#right shift all column except datecol, concat and drop last column\n",
    "right_shift = justify(df_nov.loc[:, 1:].values, invalid_val = np.nan, side = 'right')\n",
    "right_shift = pd.DataFrame(right_shift)\n",
    "right_shift[5] = right_shift[5] + right_shift[6]\n",
    "right_shift = right_shift.drop(6, axis = 'columns')\n",
    "\n",
    "\n",
    "#combine, drop, concat\n",
    "right_shift[0] = right_shift[right_shift.columns[1:4]]\\\n",
    "                            .apply(lambda x: ''.join(x.dropna().astype(str)),\n",
    "                                  axis = 1).str.lstrip()\n",
    "right_shift[0] = right_shift[right_shift.columns[[0,4]]].apply(lambda x: '/'.join(x), axis = 1)\n",
    "right_shift = right_shift.drop([1, 2, 3, 4], axis = 'columns')\n",
    "\n",
    "\n",
    "df_nov = pd.concat([datecol, right_shift], axis = 'columns')\n",
    "df_nov.columns = ['tanggal', 'komoditas', 'harga']\n",
    "\n",
    "#change tanggal to datetime, harga to int64, replace some strips\n",
    "df_nov.tanggal = df_nov.tanggal.apply(pd.to_datetime, dayfirst = True)\n",
    "df_nov.harga = df_nov.harga.str.replace('\"', '')\n",
    "df_nov.komoditas = df_nov.komoditas.str.replace('\"', '')\n",
    "\n",
    "print(df_nov.head())\n"
   ]
  },
  {
   "cell_type": "code",
   "execution_count": 375,
   "metadata": {},
   "outputs": [
    {
     "data": {
      "text/plain": [
       "tanggal       21\n",
       "komoditas     38\n",
       "harga        354\n",
       "dtype: int64"
      ]
     },
     "execution_count": 375,
     "metadata": {},
     "output_type": "execute_result"
    }
   ],
   "source": [
    "df_nov.nunique()"
   ]
  },
  {
   "cell_type": "code",
   "execution_count": 376,
   "metadata": {},
   "outputs": [
    {
     "data": {
      "text/plain": [
       "2018-11-06    38\n",
       "2018-11-14    38\n",
       "2018-11-22    38\n",
       "2018-11-05    38\n",
       "2018-11-16    38\n",
       "2018-11-27    38\n",
       "2018-11-21    38\n",
       "2018-11-15    38\n",
       "2018-11-26    38\n",
       "2018-11-09    38\n",
       "2018-11-08    38\n",
       "2018-11-23    38\n",
       "2018-11-19    38\n",
       "2018-11-02    38\n",
       "2018-11-30    38\n",
       "2018-11-13    38\n",
       "2018-11-07    38\n",
       "2018-11-01    38\n",
       "2018-11-29    38\n",
       "2018-11-12    38\n",
       "2018-11-28    38\n",
       "Name: tanggal, dtype: int64"
      ]
     },
     "execution_count": 376,
     "metadata": {},
     "output_type": "execute_result"
    }
   ],
   "source": [
    "df_nov.tanggal.value_counts()"
   ]
  },
  {
   "cell_type": "markdown",
   "metadata": {},
   "source": [
    "### df[11] = df_des"
   ]
  },
  {
   "cell_type": "code",
   "execution_count": 377,
   "metadata": {
    "scrolled": true
   },
   "outputs": [
    {
     "data": {
      "text/html": [
       "<div>\n",
       "<style scoped>\n",
       "    .dataframe tbody tr th:only-of-type {\n",
       "        vertical-align: middle;\n",
       "    }\n",
       "\n",
       "    .dataframe tbody tr th {\n",
       "        vertical-align: top;\n",
       "    }\n",
       "\n",
       "    .dataframe thead th {\n",
       "        text-align: right;\n",
       "    }\n",
       "</style>\n",
       "<table border=\"1\" class=\"dataframe\">\n",
       "  <thead>\n",
       "    <tr style=\"text-align: right;\">\n",
       "      <th></th>\n",
       "      <th>TANGGAL,BULAN,TAHUN,KOMODITI,SATUAN,HARGA</th>\n",
       "    </tr>\n",
       "  </thead>\n",
       "  <tbody>\n",
       "    <tr>\n",
       "      <th>0</th>\n",
       "      <td>3,desember,2018,beras medium,kg,10790</td>\n",
       "    </tr>\n",
       "    <tr>\n",
       "      <th>1</th>\n",
       "      <td>4,desember,2018,beras medium,kg,10590</td>\n",
       "    </tr>\n",
       "    <tr>\n",
       "      <th>2</th>\n",
       "      <td>5,desember,2018,beras medium,kg,10500</td>\n",
       "    </tr>\n",
       "    <tr>\n",
       "      <th>3</th>\n",
       "      <td>6,desember,2018,beras medium,kg,10450</td>\n",
       "    </tr>\n",
       "    <tr>\n",
       "      <th>4</th>\n",
       "      <td>7,desember,2018,beras medium,kg,10500</td>\n",
       "    </tr>\n",
       "  </tbody>\n",
       "</table>\n",
       "</div>"
      ],
      "text/plain": [
       "  TANGGAL,BULAN,TAHUN,KOMODITI,SATUAN,HARGA\n",
       "0     3,desember,2018,beras medium,kg,10790\n",
       "1     4,desember,2018,beras medium,kg,10590\n",
       "2     5,desember,2018,beras medium,kg,10500\n",
       "3     6,desember,2018,beras medium,kg,10450\n",
       "4     7,desember,2018,beras medium,kg,10500"
      ]
     },
     "execution_count": 377,
     "metadata": {},
     "output_type": "execute_result"
    }
   ],
   "source": [
    "df_des = df[11]\n",
    "df_des = df_des.apply(lambda x : x.astype(str).str.lower())\n",
    "df_des.head()"
   ]
  },
  {
   "cell_type": "code",
   "execution_count": 378,
   "metadata": {},
   "outputs": [],
   "source": [
    "df_des = df_des[~(df_des['TANGGAL,BULAN,TAHUN,KOMODITI,SATUAN,HARGA'] == ',,,,,')]"
   ]
  },
  {
   "cell_type": "code",
   "execution_count": 379,
   "metadata": {
    "scrolled": false
   },
   "outputs": [
    {
     "name": "stdout",
     "output_type": "stream",
     "text": [
      "                                  0\n",
      "0   3/12/2018,beras medium,kg,10790\n",
      "1   4/12/2018,beras medium,kg,10590\n",
      "2   5/12/2018,beras medium,kg,10500\n",
      "3   6/12/2018,beras medium,kg,10450\n",
      "4   7/12/2018,beras medium,kg,10500\n",
      "5  10/12/2018,beras medium,kg,10500\n",
      "6  11/12/2018,beras medium,kg,10350\n",
      "7  12/12/2018,beras medium,kg,10590\n",
      "8  13/12/2018,beras medium,kg,10540\n",
      "9  14/12/2018,beras medium,kg,10590 \n",
      "\n"
     ]
    }
   ],
   "source": [
    "#strip and split\n",
    "df_des.columns = [0]\n",
    "df_des[0] = df_des[0].str.replace(',desember,', '/12/')\n",
    "print(df_des.head(10), '\\n')\n",
    "df_des = df_des[0].str.split(',', expand = True)"
   ]
  },
  {
   "cell_type": "code",
   "execution_count": 380,
   "metadata": {},
   "outputs": [],
   "source": [
    "#put date column in :datecol\n",
    "datecol = df_des.loc[:, 0]\n"
   ]
  },
  {
   "cell_type": "code",
   "execution_count": 381,
   "metadata": {},
   "outputs": [
    {
     "name": "stdout",
     "output_type": "stream",
     "text": [
      "     tanggal        komoditas    harga\n",
      "0 2018-12-03  beras medium/kg  10790.0\n",
      "1 2018-12-04  beras medium/kg  10590.0\n",
      "2 2018-12-05  beras medium/kg  10500.0\n",
      "3 2018-12-06  beras medium/kg  10450.0\n",
      "4 2018-12-07  beras medium/kg  10500.0\n"
     ]
    }
   ],
   "source": [
    "#right shift all column except datecol, concat and drop last column\n",
    "right_shift = justify(df_des.loc[:, 1:].values, invalid_val = np.nan, side = 'right')\n",
    "right_shift = pd.DataFrame(right_shift)\n",
    "right_shift\n",
    "\n",
    "#combine, drop, concat\n",
    "right_shift[0] = right_shift[right_shift.columns[1:4]]\\\n",
    "                            .apply(lambda x: ''.join(x.dropna().astype(str)),\n",
    "                                  axis = 1).str.lstrip()\n",
    "right_shift[0] = right_shift[right_shift.columns[[0,4]]].apply(lambda x: '/'.join(x), axis = 1)\n",
    "right_shift = right_shift.drop([1, 2, 3, 4], axis = 'columns')\n",
    "right_shift.head()\n",
    "df_des = pd.concat([datecol, right_shift], axis = 'columns')\n",
    "df_des.columns = ['tanggal', 'komoditas', 'harga']\n",
    "df_des.harga = pd.to_numeric(df_des.harga).round(2)\n",
    "\n",
    "#change tanggal to datetime, harga to int64, replace some strips\n",
    "df_des.tanggal = df_des.tanggal.apply(pd.to_datetime, dayfirst = True)\n",
    "df_des.komoditas = df_des.komoditas.str.replace('\"', '')\n",
    "\n",
    "print(df_des.head())"
   ]
  },
  {
   "cell_type": "markdown",
   "metadata": {
    "scrolled": true
   },
   "source": [
    "### Let's concat!\n",
    "\n",
    "\n",
    "\n"
   ]
  },
  {
   "cell_type": "code",
   "execution_count": 382,
   "metadata": {
    "scrolled": false
   },
   "outputs": [
    {
     "name": "stdout",
     "output_type": "stream",
     "text": [
      "        tanggal        komoditas harga\n",
      "9077 2018-12-21  ketela pohon/kg  5340\n",
      "9078 2018-12-26  ketela pohon/kg  5340\n",
      "9079 2018-12-27  ketela pohon/kg  5340\n",
      "9080 2018-12-28  ketela pohon/kg  5340\n",
      "9081 2018-12-31  ketela pohon/kg  5340 \n",
      "\n",
      "<class 'pandas.core.frame.DataFrame'>\n",
      "RangeIndex: 9082 entries, 0 to 9081\n",
      "Data columns (total 3 columns):\n",
      " #   Column     Non-Null Count  Dtype         \n",
      "---  ------     --------------  -----         \n",
      " 0   tanggal    9082 non-null   datetime64[ns]\n",
      " 1   komoditas  9082 non-null   object        \n",
      " 2   harga      9082 non-null   object        \n",
      "dtypes: datetime64[ns](1), object(2)\n",
      "memory usage: 213.0+ KB\n",
      "None\n",
      "<class 'pandas.core.frame.DataFrame'>\n",
      "RangeIndex: 9082 entries, 0 to 9081\n",
      "Data columns (total 3 columns):\n",
      " #   Column     Non-Null Count  Dtype         \n",
      "---  ------     --------------  -----         \n",
      " 0   tanggal    9082 non-null   datetime64[ns]\n",
      " 1   komoditas  9082 non-null   object        \n",
      " 2   harga      9082 non-null   object        \n",
      "dtypes: datetime64[ns](1), object(2)\n",
      "memory usage: 213.0+ KB\n",
      "None\n"
     ]
    },
    {
     "data": {
      "text/plain": [
       "2018-05-21    38\n",
       "2018-12-03    38\n",
       "2018-02-08    38\n",
       "2018-07-16    38\n",
       "2018-12-21    38\n",
       "              ..\n",
       "2018-10-01    38\n",
       "2018-01-15    38\n",
       "2018-06-22    38\n",
       "2018-11-27    38\n",
       "2018-08-30    38\n",
       "Name: tanggal, Length: 239, dtype: int64"
      ]
     },
     "execution_count": 382,
     "metadata": {},
     "output_type": "execute_result"
    }
   ],
   "source": [
    "list_df = [df_jan, df_feb, df_mar, \n",
    "           df_april, df_mei, df_juni, \n",
    "           df_juli, df_agu, df_sep, \n",
    "           df_okt, df_nov, df_des]\n",
    "\n",
    "df_pangan = pd.concat(list_df, axis = 'rows', ignore_index=True, )\n",
    "print(df_pangan.tail(), '\\n')\n",
    "print(df_pangan.info())\n",
    "\n",
    "#drop row with nan value\n",
    "print(df_pangan.info())\n",
    "df_pangan.tanggal.value_counts()"
   ]
  },
  {
   "cell_type": "code",
   "execution_count": 383,
   "metadata": {},
   "outputs": [
    {
     "data": {
      "text/plain": [
       "49"
      ]
     },
     "execution_count": 383,
     "metadata": {},
     "output_type": "execute_result"
    }
   ],
   "source": [
    "df_pangan.komoditas.nunique()"
   ]
  },
  {
   "cell_type": "code",
   "execution_count": 384,
   "metadata": {},
   "outputs": [],
   "source": [
    "#replacing\n",
    "df_pangan.komoditas[df_pangan.komoditas.str.contains('sirloin')] = 'daging sapi lokal daging has luar (sirloin)/kg'\n",
    "df_pangan.komoditas[df_pangan.komoditas.str.contains('brisket')] = 'daging sapi lokal daging sandung lamur (brisket)/kg'\n",
    "df_pangan.komoditas[df_pangan.komoditas.str.contains('tetelan/kg')] = 'daging sapi lokal daging tetelan/kg'\n",
    "df_pangan.komoditas = df_pangan.komoditas.str.replace('cabe', 'cabai')\n",
    "\n",
    "d = {'keriting/buah' : 'keriting/kg', 'kriting/kg' : 'keriting/kg',\n",
    "    'honan/kg' : '(honan)/kg', 'bata/251' : 'bata/250', 'kating/kg' : '(kating)/kg', 'mie instan ' : ''}\n",
    "df_pangan.komoditas = df_pangan.komoditas.replace(d, regex = True)\n",
    "df_pangan.komoditas = df_pangan.komoditas.str.replace('(honan)/buah', '(honan)/kg', regex = False)\\\n",
    "                               .str.replace('(kating)/buah','(kating)/kg', regex = False)"
   ]
  },
  {
   "cell_type": "code",
   "execution_count": 385,
   "metadata": {
    "scrolled": false
   },
   "outputs": [
    {
     "name": "stdout",
     "output_type": "stream",
     "text": [
      "38 \n",
      "\n"
     ]
    }
   ],
   "source": [
    "print(df_pangan.komoditas.nunique(), '\\n')"
   ]
  },
  {
   "cell_type": "code",
   "execution_count": 386,
   "metadata": {},
   "outputs": [
    {
     "data": {
      "text/html": [
       "<div>\n",
       "<style scoped>\n",
       "    .dataframe tbody tr th:only-of-type {\n",
       "        vertical-align: middle;\n",
       "    }\n",
       "\n",
       "    .dataframe tbody tr th {\n",
       "        vertical-align: top;\n",
       "    }\n",
       "\n",
       "    .dataframe thead th {\n",
       "        text-align: right;\n",
       "    }\n",
       "</style>\n",
       "<table border=\"1\" class=\"dataframe\">\n",
       "  <thead>\n",
       "    <tr style=\"text-align: right;\">\n",
       "      <th></th>\n",
       "      <th>tanggal</th>\n",
       "      <th>komoditas</th>\n",
       "      <th>harga</th>\n",
       "    </tr>\n",
       "  </thead>\n",
       "  <tbody>\n",
       "    <tr>\n",
       "      <th>9077</th>\n",
       "      <td>2018-12-21</td>\n",
       "      <td>ketela pohon/kg</td>\n",
       "      <td>5340</td>\n",
       "    </tr>\n",
       "    <tr>\n",
       "      <th>9078</th>\n",
       "      <td>2018-12-26</td>\n",
       "      <td>ketela pohon/kg</td>\n",
       "      <td>5340</td>\n",
       "    </tr>\n",
       "    <tr>\n",
       "      <th>9079</th>\n",
       "      <td>2018-12-27</td>\n",
       "      <td>ketela pohon/kg</td>\n",
       "      <td>5340</td>\n",
       "    </tr>\n",
       "    <tr>\n",
       "      <th>9080</th>\n",
       "      <td>2018-12-28</td>\n",
       "      <td>ketela pohon/kg</td>\n",
       "      <td>5340</td>\n",
       "    </tr>\n",
       "    <tr>\n",
       "      <th>9081</th>\n",
       "      <td>2018-12-31</td>\n",
       "      <td>ketela pohon/kg</td>\n",
       "      <td>5340</td>\n",
       "    </tr>\n",
       "  </tbody>\n",
       "</table>\n",
       "</div>"
      ],
      "text/plain": [
       "        tanggal        komoditas harga\n",
       "9077 2018-12-21  ketela pohon/kg  5340\n",
       "9078 2018-12-26  ketela pohon/kg  5340\n",
       "9079 2018-12-27  ketela pohon/kg  5340\n",
       "9080 2018-12-28  ketela pohon/kg  5340\n",
       "9081 2018-12-31  ketela pohon/kg  5340"
      ]
     },
     "execution_count": 386,
     "metadata": {},
     "output_type": "execute_result"
    }
   ],
   "source": [
    "#reformat datetime\n",
    "df_pangan.tanggal = pd.to_datetime(df_pangan.tanggal, infer_datetime_format= True, dayfirst=True)\n",
    "\n",
    "df_pangan.tail()"
   ]
  },
  {
   "cell_type": "code",
   "execution_count": 387,
   "metadata": {},
   "outputs": [],
   "source": [
    "df_pangan = df_pangan.drop_duplicates()\n",
    "df_pangan.harga = df_pangan.harga.astype(int)"
   ]
  },
  {
   "cell_type": "code",
   "execution_count": 388,
   "metadata": {},
   "outputs": [
    {
     "data": {
      "text/html": [
       "<div>\n",
       "<style scoped>\n",
       "    .dataframe tbody tr th:only-of-type {\n",
       "        vertical-align: middle;\n",
       "    }\n",
       "\n",
       "    .dataframe tbody tr th {\n",
       "        vertical-align: top;\n",
       "    }\n",
       "\n",
       "    .dataframe thead th {\n",
       "        text-align: right;\n",
       "    }\n",
       "</style>\n",
       "<table border=\"1\" class=\"dataframe\">\n",
       "  <thead>\n",
       "    <tr style=\"text-align: right;\">\n",
       "      <th></th>\n",
       "      <th>tanggal</th>\n",
       "      <th>komoditas</th>\n",
       "      <th>harga</th>\n",
       "    </tr>\n",
       "  </thead>\n",
       "  <tbody>\n",
       "  </tbody>\n",
       "</table>\n",
       "</div>"
      ],
      "text/plain": [
       "Empty DataFrame\n",
       "Columns: [tanggal, komoditas, harga]\n",
       "Index: []"
      ]
     },
     "execution_count": 388,
     "metadata": {},
     "output_type": "execute_result"
    }
   ],
   "source": [
    "df_pangan = df_pangan.drop_duplicates(ignore_index=True)\n",
    "df_pangan[df_pangan.duplicated()]"
   ]
  },
  {
   "cell_type": "code",
   "execution_count": 389,
   "metadata": {},
   "outputs": [],
   "source": [
    "df_pangan = df_pangan.set_index('tanggal')"
   ]
  },
  {
   "cell_type": "code",
   "execution_count": 390,
   "metadata": {},
   "outputs": [
    {
     "data": {
      "text/html": [
       "<div>\n",
       "<style scoped>\n",
       "    .dataframe tbody tr th:only-of-type {\n",
       "        vertical-align: middle;\n",
       "    }\n",
       "\n",
       "    .dataframe tbody tr th {\n",
       "        vertical-align: top;\n",
       "    }\n",
       "\n",
       "    .dataframe thead th {\n",
       "        text-align: right;\n",
       "    }\n",
       "</style>\n",
       "<table border=\"1\" class=\"dataframe\">\n",
       "  <thead>\n",
       "    <tr style=\"text-align: right;\">\n",
       "      <th>komoditas</th>\n",
       "      <th>ayam boiler/ekor</th>\n",
       "      <th>ayam kampung/ekor</th>\n",
       "      <th>bawang merah (medium)/kg</th>\n",
       "      <th>bawang putih impor (honan)/kg</th>\n",
       "      <th>bawang putih impor (kating)/kg</th>\n",
       "      <th>beras medium/kg</th>\n",
       "      <th>beras premium/kg</th>\n",
       "      <th>cabai merah besar/kg</th>\n",
       "      <th>cabai merah keriting/kg</th>\n",
       "      <th>cabai rawit hijau/kg</th>\n",
       "      <th>...</th>\n",
       "      <th>ketela pohon/kg</th>\n",
       "      <th>minyak goreng bimoli botol/liter</th>\n",
       "      <th>minyak goreng curah/liter</th>\n",
       "      <th>susu bubuk kaleng merk bendera/buah</th>\n",
       "      <th>susu bubuk kaleng merk indomilk/buah</th>\n",
       "      <th>susu kental manis kaleng merk bendera/buah</th>\n",
       "      <th>susu kental manis kaleng merk indomilk/buah</th>\n",
       "      <th>telur ayam kampung/butir</th>\n",
       "      <th>telur ayam ras/kg</th>\n",
       "      <th>tepung terigu segitiga biru/kg</th>\n",
       "    </tr>\n",
       "    <tr>\n",
       "      <th>tanggal</th>\n",
       "      <th></th>\n",
       "      <th></th>\n",
       "      <th></th>\n",
       "      <th></th>\n",
       "      <th></th>\n",
       "      <th></th>\n",
       "      <th></th>\n",
       "      <th></th>\n",
       "      <th></th>\n",
       "      <th></th>\n",
       "      <th></th>\n",
       "      <th></th>\n",
       "      <th></th>\n",
       "      <th></th>\n",
       "      <th></th>\n",
       "      <th></th>\n",
       "      <th></th>\n",
       "      <th></th>\n",
       "      <th></th>\n",
       "      <th></th>\n",
       "      <th></th>\n",
       "    </tr>\n",
       "  </thead>\n",
       "  <tbody>\n",
       "    <tr>\n",
       "      <th>2018-01-02</th>\n",
       "      <td>39740</td>\n",
       "      <td>55075</td>\n",
       "      <td>26800</td>\n",
       "      <td>25000</td>\n",
       "      <td>28560</td>\n",
       "      <td>11340</td>\n",
       "      <td>13340</td>\n",
       "      <td>37260</td>\n",
       "      <td>37140</td>\n",
       "      <td>34800</td>\n",
       "      <td>...</td>\n",
       "      <td>5060</td>\n",
       "      <td>14040</td>\n",
       "      <td>12388</td>\n",
       "      <td>43667</td>\n",
       "      <td>42000</td>\n",
       "      <td>12340</td>\n",
       "      <td>10300</td>\n",
       "      <td>2100</td>\n",
       "      <td>26150</td>\n",
       "      <td>10160</td>\n",
       "    </tr>\n",
       "    <tr>\n",
       "      <th>2018-01-03</th>\n",
       "      <td>38940</td>\n",
       "      <td>55075</td>\n",
       "      <td>27800</td>\n",
       "      <td>25000</td>\n",
       "      <td>30260</td>\n",
       "      <td>11440</td>\n",
       "      <td>13440</td>\n",
       "      <td>37260</td>\n",
       "      <td>38640</td>\n",
       "      <td>35300</td>\n",
       "      <td>...</td>\n",
       "      <td>5060</td>\n",
       "      <td>14240</td>\n",
       "      <td>12450</td>\n",
       "      <td>43667</td>\n",
       "      <td>42000</td>\n",
       "      <td>12240</td>\n",
       "      <td>10400</td>\n",
       "      <td>2150</td>\n",
       "      <td>26200</td>\n",
       "      <td>10360</td>\n",
       "    </tr>\n",
       "    <tr>\n",
       "      <th>2018-01-04</th>\n",
       "      <td>37440</td>\n",
       "      <td>53825</td>\n",
       "      <td>28400</td>\n",
       "      <td>27500</td>\n",
       "      <td>28660</td>\n",
       "      <td>11490</td>\n",
       "      <td>13490</td>\n",
       "      <td>39260</td>\n",
       "      <td>39340</td>\n",
       "      <td>41400</td>\n",
       "      <td>...</td>\n",
       "      <td>5060</td>\n",
       "      <td>14240</td>\n",
       "      <td>12575</td>\n",
       "      <td>43667</td>\n",
       "      <td>42000</td>\n",
       "      <td>11940</td>\n",
       "      <td>10600</td>\n",
       "      <td>2100</td>\n",
       "      <td>26300</td>\n",
       "      <td>9860</td>\n",
       "    </tr>\n",
       "    <tr>\n",
       "      <th>2018-01-05</th>\n",
       "      <td>36940</td>\n",
       "      <td>78825</td>\n",
       "      <td>27900</td>\n",
       "      <td>27500</td>\n",
       "      <td>28960</td>\n",
       "      <td>11740</td>\n",
       "      <td>13740</td>\n",
       "      <td>40260</td>\n",
       "      <td>42340</td>\n",
       "      <td>40400</td>\n",
       "      <td>...</td>\n",
       "      <td>4960</td>\n",
       "      <td>14040</td>\n",
       "      <td>12200</td>\n",
       "      <td>43667</td>\n",
       "      <td>42000</td>\n",
       "      <td>11940</td>\n",
       "      <td>10300</td>\n",
       "      <td>2120</td>\n",
       "      <td>26450</td>\n",
       "      <td>9610</td>\n",
       "    </tr>\n",
       "    <tr>\n",
       "      <th>2018-01-08</th>\n",
       "      <td>36940</td>\n",
       "      <td>77575</td>\n",
       "      <td>27900</td>\n",
       "      <td>27500</td>\n",
       "      <td>28960</td>\n",
       "      <td>11740</td>\n",
       "      <td>13740</td>\n",
       "      <td>40260</td>\n",
       "      <td>42340</td>\n",
       "      <td>40400</td>\n",
       "      <td>...</td>\n",
       "      <td>4960</td>\n",
       "      <td>13440</td>\n",
       "      <td>12200</td>\n",
       "      <td>43667</td>\n",
       "      <td>42000</td>\n",
       "      <td>11940</td>\n",
       "      <td>10300</td>\n",
       "      <td>2120</td>\n",
       "      <td>26450</td>\n",
       "      <td>9610</td>\n",
       "    </tr>\n",
       "    <tr>\n",
       "      <th>...</th>\n",
       "      <td>...</td>\n",
       "      <td>...</td>\n",
       "      <td>...</td>\n",
       "      <td>...</td>\n",
       "      <td>...</td>\n",
       "      <td>...</td>\n",
       "      <td>...</td>\n",
       "      <td>...</td>\n",
       "      <td>...</td>\n",
       "      <td>...</td>\n",
       "      <td>...</td>\n",
       "      <td>...</td>\n",
       "      <td>...</td>\n",
       "      <td>...</td>\n",
       "      <td>...</td>\n",
       "      <td>...</td>\n",
       "      <td>...</td>\n",
       "      <td>...</td>\n",
       "      <td>...</td>\n",
       "      <td>...</td>\n",
       "      <td>...</td>\n",
       "    </tr>\n",
       "    <tr>\n",
       "      <th>2018-12-21</th>\n",
       "      <td>38860</td>\n",
       "      <td>86250</td>\n",
       "      <td>30260</td>\n",
       "      <td>26500</td>\n",
       "      <td>28160</td>\n",
       "      <td>13187</td>\n",
       "      <td>12437</td>\n",
       "      <td>42200</td>\n",
       "      <td>33660</td>\n",
       "      <td>27240</td>\n",
       "      <td>...</td>\n",
       "      <td>5340</td>\n",
       "      <td>13340</td>\n",
       "      <td>11260</td>\n",
       "      <td>44375</td>\n",
       "      <td>42325</td>\n",
       "      <td>11510</td>\n",
       "      <td>9820</td>\n",
       "      <td>2340</td>\n",
       "      <td>26500</td>\n",
       "      <td>9740</td>\n",
       "    </tr>\n",
       "    <tr>\n",
       "      <th>2018-12-26</th>\n",
       "      <td>39060</td>\n",
       "      <td>83750</td>\n",
       "      <td>30960</td>\n",
       "      <td>26500</td>\n",
       "      <td>27860</td>\n",
       "      <td>13187</td>\n",
       "      <td>12375</td>\n",
       "      <td>43700</td>\n",
       "      <td>34060</td>\n",
       "      <td>27440</td>\n",
       "      <td>...</td>\n",
       "      <td>5340</td>\n",
       "      <td>13240</td>\n",
       "      <td>11560</td>\n",
       "      <td>44375</td>\n",
       "      <td>42325</td>\n",
       "      <td>11460</td>\n",
       "      <td>9820</td>\n",
       "      <td>2320</td>\n",
       "      <td>26600</td>\n",
       "      <td>9740</td>\n",
       "    </tr>\n",
       "    <tr>\n",
       "      <th>2018-12-27</th>\n",
       "      <td>40200</td>\n",
       "      <td>95000</td>\n",
       "      <td>30740</td>\n",
       "      <td>25500</td>\n",
       "      <td>27260</td>\n",
       "      <td>13250</td>\n",
       "      <td>12700</td>\n",
       "      <td>40560</td>\n",
       "      <td>32800</td>\n",
       "      <td>28440</td>\n",
       "      <td>...</td>\n",
       "      <td>5340</td>\n",
       "      <td>13560</td>\n",
       "      <td>11600</td>\n",
       "      <td>44375</td>\n",
       "      <td>42450</td>\n",
       "      <td>12100</td>\n",
       "      <td>9960</td>\n",
       "      <td>2340</td>\n",
       "      <td>26740</td>\n",
       "      <td>9700</td>\n",
       "    </tr>\n",
       "    <tr>\n",
       "      <th>2018-12-28</th>\n",
       "      <td>39200</td>\n",
       "      <td>95000</td>\n",
       "      <td>31440</td>\n",
       "      <td>25500</td>\n",
       "      <td>27260</td>\n",
       "      <td>13375</td>\n",
       "      <td>12825</td>\n",
       "      <td>40060</td>\n",
       "      <td>33300</td>\n",
       "      <td>28440</td>\n",
       "      <td>...</td>\n",
       "      <td>5340</td>\n",
       "      <td>13560</td>\n",
       "      <td>11700</td>\n",
       "      <td>44375</td>\n",
       "      <td>42450</td>\n",
       "      <td>12100</td>\n",
       "      <td>9960</td>\n",
       "      <td>2340</td>\n",
       "      <td>26740</td>\n",
       "      <td>9800</td>\n",
       "    </tr>\n",
       "    <tr>\n",
       "      <th>2018-12-31</th>\n",
       "      <td>39200</td>\n",
       "      <td>95000</td>\n",
       "      <td>31440</td>\n",
       "      <td>25500</td>\n",
       "      <td>27260</td>\n",
       "      <td>13375</td>\n",
       "      <td>12825</td>\n",
       "      <td>40560</td>\n",
       "      <td>32800</td>\n",
       "      <td>28440</td>\n",
       "      <td>...</td>\n",
       "      <td>5340</td>\n",
       "      <td>13560</td>\n",
       "      <td>11700</td>\n",
       "      <td>44375</td>\n",
       "      <td>42450</td>\n",
       "      <td>12100</td>\n",
       "      <td>9960</td>\n",
       "      <td>2340</td>\n",
       "      <td>26740</td>\n",
       "      <td>9800</td>\n",
       "    </tr>\n",
       "  </tbody>\n",
       "</table>\n",
       "<p>239 rows × 38 columns</p>\n",
       "</div>"
      ],
      "text/plain": [
       "komoditas   ayam boiler/ekor  ayam kampung/ekor  bawang merah (medium)/kg  \\\n",
       "tanggal                                                                     \n",
       "2018-01-02             39740              55075                     26800   \n",
       "2018-01-03             38940              55075                     27800   \n",
       "2018-01-04             37440              53825                     28400   \n",
       "2018-01-05             36940              78825                     27900   \n",
       "2018-01-08             36940              77575                     27900   \n",
       "...                      ...                ...                       ...   \n",
       "2018-12-21             38860              86250                     30260   \n",
       "2018-12-26             39060              83750                     30960   \n",
       "2018-12-27             40200              95000                     30740   \n",
       "2018-12-28             39200              95000                     31440   \n",
       "2018-12-31             39200              95000                     31440   \n",
       "\n",
       "komoditas   bawang putih impor (honan)/kg  bawang putih impor (kating)/kg  \\\n",
       "tanggal                                                                     \n",
       "2018-01-02                          25000                           28560   \n",
       "2018-01-03                          25000                           30260   \n",
       "2018-01-04                          27500                           28660   \n",
       "2018-01-05                          27500                           28960   \n",
       "2018-01-08                          27500                           28960   \n",
       "...                                   ...                             ...   \n",
       "2018-12-21                          26500                           28160   \n",
       "2018-12-26                          26500                           27860   \n",
       "2018-12-27                          25500                           27260   \n",
       "2018-12-28                          25500                           27260   \n",
       "2018-12-31                          25500                           27260   \n",
       "\n",
       "komoditas   beras medium/kg  beras premium/kg  cabai merah besar/kg  \\\n",
       "tanggal                                                               \n",
       "2018-01-02            11340             13340                 37260   \n",
       "2018-01-03            11440             13440                 37260   \n",
       "2018-01-04            11490             13490                 39260   \n",
       "2018-01-05            11740             13740                 40260   \n",
       "2018-01-08            11740             13740                 40260   \n",
       "...                     ...               ...                   ...   \n",
       "2018-12-21            13187             12437                 42200   \n",
       "2018-12-26            13187             12375                 43700   \n",
       "2018-12-27            13250             12700                 40560   \n",
       "2018-12-28            13375             12825                 40060   \n",
       "2018-12-31            13375             12825                 40560   \n",
       "\n",
       "komoditas   cabai merah keriting/kg  cabai rawit hijau/kg  ...  \\\n",
       "tanggal                                                    ...   \n",
       "2018-01-02                    37140                 34800  ...   \n",
       "2018-01-03                    38640                 35300  ...   \n",
       "2018-01-04                    39340                 41400  ...   \n",
       "2018-01-05                    42340                 40400  ...   \n",
       "2018-01-08                    42340                 40400  ...   \n",
       "...                             ...                   ...  ...   \n",
       "2018-12-21                    33660                 27240  ...   \n",
       "2018-12-26                    34060                 27440  ...   \n",
       "2018-12-27                    32800                 28440  ...   \n",
       "2018-12-28                    33300                 28440  ...   \n",
       "2018-12-31                    32800                 28440  ...   \n",
       "\n",
       "komoditas   ketela pohon/kg  minyak goreng bimoli botol/liter  \\\n",
       "tanggal                                                         \n",
       "2018-01-02             5060                             14040   \n",
       "2018-01-03             5060                             14240   \n",
       "2018-01-04             5060                             14240   \n",
       "2018-01-05             4960                             14040   \n",
       "2018-01-08             4960                             13440   \n",
       "...                     ...                               ...   \n",
       "2018-12-21             5340                             13340   \n",
       "2018-12-26             5340                             13240   \n",
       "2018-12-27             5340                             13560   \n",
       "2018-12-28             5340                             13560   \n",
       "2018-12-31             5340                             13560   \n",
       "\n",
       "komoditas   minyak goreng curah/liter  susu bubuk kaleng merk bendera/buah  \\\n",
       "tanggal                                                                      \n",
       "2018-01-02                      12388                                43667   \n",
       "2018-01-03                      12450                                43667   \n",
       "2018-01-04                      12575                                43667   \n",
       "2018-01-05                      12200                                43667   \n",
       "2018-01-08                      12200                                43667   \n",
       "...                               ...                                  ...   \n",
       "2018-12-21                      11260                                44375   \n",
       "2018-12-26                      11560                                44375   \n",
       "2018-12-27                      11600                                44375   \n",
       "2018-12-28                      11700                                44375   \n",
       "2018-12-31                      11700                                44375   \n",
       "\n",
       "komoditas   susu bubuk kaleng merk indomilk/buah  \\\n",
       "tanggal                                            \n",
       "2018-01-02                                 42000   \n",
       "2018-01-03                                 42000   \n",
       "2018-01-04                                 42000   \n",
       "2018-01-05                                 42000   \n",
       "2018-01-08                                 42000   \n",
       "...                                          ...   \n",
       "2018-12-21                                 42325   \n",
       "2018-12-26                                 42325   \n",
       "2018-12-27                                 42450   \n",
       "2018-12-28                                 42450   \n",
       "2018-12-31                                 42450   \n",
       "\n",
       "komoditas   susu kental manis kaleng merk bendera/buah  \\\n",
       "tanggal                                                  \n",
       "2018-01-02                                       12340   \n",
       "2018-01-03                                       12240   \n",
       "2018-01-04                                       11940   \n",
       "2018-01-05                                       11940   \n",
       "2018-01-08                                       11940   \n",
       "...                                                ...   \n",
       "2018-12-21                                       11510   \n",
       "2018-12-26                                       11460   \n",
       "2018-12-27                                       12100   \n",
       "2018-12-28                                       12100   \n",
       "2018-12-31                                       12100   \n",
       "\n",
       "komoditas   susu kental manis kaleng merk indomilk/buah  \\\n",
       "tanggal                                                   \n",
       "2018-01-02                                        10300   \n",
       "2018-01-03                                        10400   \n",
       "2018-01-04                                        10600   \n",
       "2018-01-05                                        10300   \n",
       "2018-01-08                                        10300   \n",
       "...                                                 ...   \n",
       "2018-12-21                                         9820   \n",
       "2018-12-26                                         9820   \n",
       "2018-12-27                                         9960   \n",
       "2018-12-28                                         9960   \n",
       "2018-12-31                                         9960   \n",
       "\n",
       "komoditas   telur ayam kampung/butir  telur ayam ras/kg  \\\n",
       "tanggal                                                   \n",
       "2018-01-02                      2100              26150   \n",
       "2018-01-03                      2150              26200   \n",
       "2018-01-04                      2100              26300   \n",
       "2018-01-05                      2120              26450   \n",
       "2018-01-08                      2120              26450   \n",
       "...                              ...                ...   \n",
       "2018-12-21                      2340              26500   \n",
       "2018-12-26                      2320              26600   \n",
       "2018-12-27                      2340              26740   \n",
       "2018-12-28                      2340              26740   \n",
       "2018-12-31                      2340              26740   \n",
       "\n",
       "komoditas   tepung terigu segitiga biru/kg  \n",
       "tanggal                                     \n",
       "2018-01-02                           10160  \n",
       "2018-01-03                           10360  \n",
       "2018-01-04                            9860  \n",
       "2018-01-05                            9610  \n",
       "2018-01-08                            9610  \n",
       "...                                    ...  \n",
       "2018-12-21                            9740  \n",
       "2018-12-26                            9740  \n",
       "2018-12-27                            9700  \n",
       "2018-12-28                            9800  \n",
       "2018-12-31                            9800  \n",
       "\n",
       "[239 rows x 38 columns]"
      ]
     },
     "execution_count": 390,
     "metadata": {},
     "output_type": "execute_result"
    }
   ],
   "source": [
    "pangan_pivot = df_pangan.pivot_table(index = 'tanggal', columns = 'komoditas', values = 'harga')\n",
    "pangan_pivot"
   ]
  },
  {
   "cell_type": "code",
   "execution_count": 391,
   "metadata": {},
   "outputs": [],
   "source": [
    "#pangan_clean = pangan_clean.set_index('tanggal').reindex(method='bfill')\n",
    "\n",
    "#to_csv\n",
    "df_pangan.to_csv('pangan_clean.csv')\n"
   ]
  },
  {
   "cell_type": "code",
   "execution_count": 392,
   "metadata": {},
   "outputs": [],
   "source": [
    "pangan_pivot.to_excel('pangan_pivot.xls')"
   ]
  },
  {
   "cell_type": "code",
   "execution_count": 393,
   "metadata": {},
   "outputs": [
    {
     "data": {
      "text/plain": [
       "komoditas\n",
       "ayam boiler/ekor                                       0\n",
       "ayam kampung/ekor                                      0\n",
       "bawang merah (medium)/kg                               0\n",
       "bawang putih impor (honan)/kg                          0\n",
       "bawang putih impor (kating)/kg                         0\n",
       "beras medium/kg                                        0\n",
       "beras premium/kg                                       0\n",
       "cabai merah besar/kg                                   0\n",
       "cabai merah keriting/kg                                0\n",
       "cabai rawit hijau/kg                                   0\n",
       "cabai rawit merah/kg                                   0\n",
       "daging sapi impor beku/kg                              0\n",
       "daging sapi lokal daging has luar (sirloin)/kg         0\n",
       "daging sapi lokal daging sandung lamur (brisket)/kg    0\n",
       "daging sapi lokal daging tetelan/kg                    0\n",
       "daging sapi lokal has dalam/kg                         0\n",
       "daging sapi lokal paha belakang/kg                     0\n",
       "garam beryodium bata/250 gr                            0\n",
       "garam beryodium halus/kg                               0\n",
       "gula pasir/kg                                          0\n",
       "ikan kembung/kg                                        0\n",
       "ikan teri asin/kg                                      0\n",
       "indomie rasa kari ayam/buah                            0\n",
       "jagung pipilan kecil/kg                                0\n",
       "kacang hijau/kg                                        0\n",
       "kacang kedelai eks impor/kg                            0\n",
       "kacang kedelai lokal/kg                                0\n",
       "kacang tanah/kg                                        0\n",
       "ketela pohon/kg                                        0\n",
       "minyak goreng bimoli botol/liter                       0\n",
       "minyak goreng curah/liter                              0\n",
       "susu bubuk kaleng merk bendera/buah                    0\n",
       "susu bubuk kaleng merk indomilk/buah                   0\n",
       "susu kental manis kaleng merk bendera/buah             0\n",
       "susu kental manis kaleng merk indomilk/buah            0\n",
       "telur ayam kampung/butir                               0\n",
       "telur ayam ras/kg                                      0\n",
       "tepung terigu segitiga biru/kg                         0\n",
       "dtype: int64"
      ]
     },
     "execution_count": 393,
     "metadata": {},
     "output_type": "execute_result"
    }
   ],
   "source": [
    "pangan_pivot.isnull().sum()"
   ]
  }
 ],
 "metadata": {
  "kernelspec": {
   "display_name": "Python 3",
   "language": "python",
   "name": "python3"
  },
  "language_info": {
   "codemirror_mode": {
    "name": "ipython",
    "version": 3
   },
   "file_extension": ".py",
   "mimetype": "text/x-python",
   "name": "python",
   "nbconvert_exporter": "python",
   "pygments_lexer": "ipython3",
   "version": "3.8.5"
  }
 },
 "nbformat": 4,
 "nbformat_minor": 2
}
